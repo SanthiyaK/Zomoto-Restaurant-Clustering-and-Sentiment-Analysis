{
 "cells": [
  {
   "cell_type": "markdown",
   "id": "ad1a6636-da7b-4ba0-b827-73d238104abe",
   "metadata": {},
   "source": [
    "# **Zomato Restaurant Clustering & Sentiment Analysis**  "
   ]
  },
  {
   "cell_type": "markdown",
   "id": "7cabbc02-d751-4b86-8b99-f19f71ac713c",
   "metadata": {},
   "source": [
    "### **Project Type** - EDA/Unsupervised Learning(Clustering)/ Sentiment Analysis\n",
    "#### **Contribution**    - Individual\n",
    "### Santhiya\n"
   ]
  },
  {
   "cell_type": "markdown",
   "id": "5e91a86a-c8c8-4281-8bce-7388d9401374",
   "metadata": {},
   "source": [
    "https://github.com/SanthiyaK/Zomoto-Restaurant-Clustering-and-Sentiment-Analysis.git -"
   ]
  },
  {
   "cell_type": "markdown",
   "id": "d4c503df-9753-41e5-adad-9d87f2e67afd",
   "metadata": {},
   "source": [
    "# Project Summary"
   ]
  },
  {
   "cell_type": "markdown",
   "id": "186aaa24-3e75-4178-a6ac-a576a3fc0a5c",
   "metadata": {},
   "source": [
    "This project aims to analyze customer reviews and restaurant data from Zomato to extract valuable insights for both customers and the company. The primary objectives include Sentiment Analysis, where Natural Language Processing (NLP) is used to evaluate customer reviews and classify them as positive, negative, or neutral. This helps visualize customer satisfaction levels and identify improvement areas. The second objective is Clustering Restaurants using Unsupervised Machine Learning to group restaurants based on features such as cuisine, cost, location, and ratings. This enables users to discover the best options in their locality and allows the company to identify and improve underperforming areas. The project also involves Cost vs. Benefit Analysis, comparing cuisine quality with pricing to determine value for money across restaurants. Additionally, Reviewer Metadata Analysis helps identify influential reviewers or critics by studying reviewer behavior and profiles.\n",
    "\n",
    "The project employs techniques such as Unsupervised Learning (Clustering), NLP for sentiment analysis, Exploratory Data Analysis (EDA), and data visualization tools. In the broader business context, Zomato, being one of India’s largest food delivery and restaurant aggregator platforms, benefits from such insights due to the country’s dynamic food culture and rapidly growing number of restaurants. This analysis can uncover trends in customer preferences, monitor market dynamics, and assess individual restaurant performance effectively."
   ]
  },
  {
   "cell_type": "markdown",
   "id": "e261d07d-b6c8-48ae-8319-1d2f1af7d1a1",
   "metadata": {},
   "source": [
    "# Problem Statement"
   ]
  },
  {
   "cell_type": "markdown",
   "id": "0df119f8-eb47-4d78-830a-f1a769893787",
   "metadata": {},
   "source": [
    "Zomato, a leading food delivery and restaurant aggregator in India, hosts a massive amount of customer-generated data, including restaurant details, reviews, ratings, and pricing. However, this valuable information remains underutilized for actionable business insights. There is a need to systematically analyze this data to understand customer sentiment, group restaurants based on key attributes, evaluate value-for-money offerings, and identify influential reviewers.\n",
    "\n",
    "This project aims to solve the problem of unstructured and scattered restaurant and review data by using Natural Language Processing for sentiment analysis, unsupervised machine learning (clustering) to group similar restaurants, and exploratory data analysis to uncover patterns in pricing, cuisine, and reviewer behavior. The insights gained will help customers make informed dining decisions and assist Zomato in enhancing restaurant recommendations, improving service quality, and optimizing platform engagement.\n"
   ]
  },
  {
   "cell_type": "markdown",
   "id": "f91149b6-afe5-4ec8-8f01-dc4f728f9e2d",
   "metadata": {},
   "source": [
    "# Installing and Importing Library"
   ]
  },
  {
   "cell_type": "code",
   "execution_count": 4,
   "id": "83a6dc13-bada-4bcf-8c15-16c93226512b",
   "metadata": {},
   "outputs": [
    {
     "name": "stdout",
     "output_type": "stream",
     "text": [
      "Requirement already satisfied: numpy in c:\\users\\hp\\anaconda3\\lib\\site-packages (2.1.3)\n",
      "Note: you may need to restart the kernel to use updated packages.\n"
     ]
    }
   ],
   "source": [
    "pip install numpy"
   ]
  },
  {
   "cell_type": "code",
   "execution_count": 1,
   "id": "ee6a1474-8ab0-4b8b-b9dc-9e088baae7ef",
   "metadata": {},
   "outputs": [
    {
     "name": "stdout",
     "output_type": "stream",
     "text": [
      "Requirement already satisfied: pandas in c:\\users\\hp\\anaconda3\\lib\\site-packages (2.2.3)\n",
      "Requirement already satisfied: numpy>=1.26.0 in c:\\users\\hp\\anaconda3\\lib\\site-packages (from pandas) (2.1.3)\n",
      "Requirement already satisfied: python-dateutil>=2.8.2 in c:\\users\\hp\\anaconda3\\lib\\site-packages (from pandas) (2.9.0.post0)\n",
      "Requirement already satisfied: pytz>=2020.1 in c:\\users\\hp\\anaconda3\\lib\\site-packages (from pandas) (2024.1)\n",
      "Requirement already satisfied: tzdata>=2022.7 in c:\\users\\hp\\anaconda3\\lib\\site-packages (from pandas) (2025.2)\n",
      "Requirement already satisfied: six>=1.5 in c:\\users\\hp\\anaconda3\\lib\\site-packages (from python-dateutil>=2.8.2->pandas) (1.17.0)\n",
      "Note: you may need to restart the kernel to use updated packages.\n"
     ]
    }
   ],
   "source": [
    "pip install pandas"
   ]
  },
  {
   "cell_type": "code",
   "execution_count": 2,
   "id": "fe284594-0bb7-4adc-ad7c-390d429b774e",
   "metadata": {},
   "outputs": [
    {
     "name": "stdout",
     "output_type": "stream",
     "text": [
      "Requirement already satisfied: matplotlib in c:\\users\\hp\\anaconda3\\lib\\site-packages (3.10.0)\n",
      "Requirement already satisfied: contourpy>=1.0.1 in c:\\users\\hp\\anaconda3\\lib\\site-packages (from matplotlib) (1.3.1)\n",
      "Requirement already satisfied: cycler>=0.10 in c:\\users\\hp\\anaconda3\\lib\\site-packages (from matplotlib) (0.11.0)\n",
      "Requirement already satisfied: fonttools>=4.22.0 in c:\\users\\hp\\anaconda3\\lib\\site-packages (from matplotlib) (4.55.3)\n",
      "Requirement already satisfied: kiwisolver>=1.3.1 in c:\\users\\hp\\anaconda3\\lib\\site-packages (from matplotlib) (1.4.8)\n",
      "Requirement already satisfied: numpy>=1.23 in c:\\users\\hp\\anaconda3\\lib\\site-packages (from matplotlib) (2.1.3)\n",
      "Requirement already satisfied: packaging>=20.0 in c:\\users\\hp\\anaconda3\\lib\\site-packages (from matplotlib) (24.2)\n",
      "Requirement already satisfied: pillow>=8 in c:\\users\\hp\\anaconda3\\lib\\site-packages (from matplotlib) (11.1.0)\n",
      "Requirement already satisfied: pyparsing>=2.3.1 in c:\\users\\hp\\anaconda3\\lib\\site-packages (from matplotlib) (3.2.0)\n",
      "Requirement already satisfied: python-dateutil>=2.7 in c:\\users\\hp\\anaconda3\\lib\\site-packages (from matplotlib) (2.9.0.post0)\n",
      "Requirement already satisfied: six>=1.5 in c:\\users\\hp\\anaconda3\\lib\\site-packages (from python-dateutil>=2.7->matplotlib) (1.17.0)\n",
      "Note: you may need to restart the kernel to use updated packages.\n"
     ]
    }
   ],
   "source": [
    "pip install matplotlib"
   ]
  },
  {
   "cell_type": "code",
   "execution_count": 7,
   "id": "2280ca1d-2b8d-496a-8558-93c4fe5bbe8a",
   "metadata": {},
   "outputs": [
    {
     "name": "stdout",
     "output_type": "stream",
     "text": [
      "Requirement already satisfied: seaborn in c:\\users\\hp\\anaconda3\\lib\\site-packages (0.13.2)\n",
      "Requirement already satisfied: numpy!=1.24.0,>=1.20 in c:\\users\\hp\\anaconda3\\lib\\site-packages (from seaborn) (2.1.3)\n",
      "Requirement already satisfied: pandas>=1.2 in c:\\users\\hp\\anaconda3\\lib\\site-packages (from seaborn) (2.2.3)\n",
      "Requirement already satisfied: matplotlib!=3.6.1,>=3.4 in c:\\users\\hp\\anaconda3\\lib\\site-packages (from seaborn) (3.10.0)\n",
      "Requirement already satisfied: contourpy>=1.0.1 in c:\\users\\hp\\anaconda3\\lib\\site-packages (from matplotlib!=3.6.1,>=3.4->seaborn) (1.3.1)\n",
      "Requirement already satisfied: cycler>=0.10 in c:\\users\\hp\\anaconda3\\lib\\site-packages (from matplotlib!=3.6.1,>=3.4->seaborn) (0.11.0)\n",
      "Requirement already satisfied: fonttools>=4.22.0 in c:\\users\\hp\\anaconda3\\lib\\site-packages (from matplotlib!=3.6.1,>=3.4->seaborn) (4.55.3)\n",
      "Requirement already satisfied: kiwisolver>=1.3.1 in c:\\users\\hp\\anaconda3\\lib\\site-packages (from matplotlib!=3.6.1,>=3.4->seaborn) (1.4.8)\n",
      "Requirement already satisfied: packaging>=20.0 in c:\\users\\hp\\anaconda3\\lib\\site-packages (from matplotlib!=3.6.1,>=3.4->seaborn) (24.2)\n",
      "Requirement already satisfied: pillow>=8 in c:\\users\\hp\\anaconda3\\lib\\site-packages (from matplotlib!=3.6.1,>=3.4->seaborn) (11.1.0)\n",
      "Requirement already satisfied: pyparsing>=2.3.1 in c:\\users\\hp\\anaconda3\\lib\\site-packages (from matplotlib!=3.6.1,>=3.4->seaborn) (3.2.0)\n",
      "Requirement already satisfied: python-dateutil>=2.7 in c:\\users\\hp\\anaconda3\\lib\\site-packages (from matplotlib!=3.6.1,>=3.4->seaborn) (2.9.0.post0)\n",
      "Requirement already satisfied: pytz>=2020.1 in c:\\users\\hp\\anaconda3\\lib\\site-packages (from pandas>=1.2->seaborn) (2024.1)\n",
      "Requirement already satisfied: tzdata>=2022.7 in c:\\users\\hp\\anaconda3\\lib\\site-packages (from pandas>=1.2->seaborn) (2025.2)\n",
      "Requirement already satisfied: six>=1.5 in c:\\users\\hp\\anaconda3\\lib\\site-packages (from python-dateutil>=2.7->matplotlib!=3.6.1,>=3.4->seaborn) (1.17.0)\n",
      "Note: you may need to restart the kernel to use updated packages.\n"
     ]
    }
   ],
   "source": [
    "pip install seaborn"
   ]
  },
  {
   "cell_type": "code",
   "execution_count": 1,
   "id": "e91d2340-0b34-4110-aa6c-50560ca9668e",
   "metadata": {},
   "outputs": [],
   "source": [
    "import numpy as np\n",
    "import pandas as pd\n",
    "import matplotlib.pyplot as plt\n",
    "import seaborn as sns"
   ]
  },
  {
   "cell_type": "markdown",
   "id": "6cb32544-bb32-4eb2-a542-739030df1c4b",
   "metadata": {},
   "source": [
    "#  Python Libraries Overview\n",
    "\n",
    "---\n",
    "\n",
    "**NumPy**  \n",
    "- Used for numerical operations and working with arrays of the same data type.  \n",
    "- Supports vectorized operations.  \n",
    "- Foundation of most scientific computing in Python.\n",
    "\n",
    "---\n",
    "\n",
    "**Pandas**  \n",
    "- Designed for data manipulation and analysis.  \n",
    "- Provides powerful tools like **DataFrame** and **Series** for handling structured data.\n",
    "\n",
    "---\n",
    "\n",
    "**Matplotlib**  \n",
    "- A plotting library used to create static, interactive, and animated visualizations in Python.  \n",
    "- Great for basic charting and data visualization.\n",
    "\n",
    "---\n",
    "\n",
    "**Seaborn**  \n",
    "- Built on top of Matplotlib.  \n",
    "- Provides beautiful and informative **statistical graphics** with less code.  \n",
    "- Comes with better default styling and support for complex visualizations like boxplots, violin plots, heatmaps, etc.\n"
   ]
  },
  {
   "cell_type": "markdown",
   "id": "884696a5-070d-4e8e-b6d0-cf9a64b7bbd6",
   "metadata": {},
   "source": [
    "## Data Pipeline Stages"
   ]
  },
  {
   "cell_type": "markdown",
   "id": "8d8aa259-9618-4fca-ad80-6ca0bc72f594",
   "metadata": {},
   "source": [
    "## Step 1: Data Collection\n",
    "\n",
    "**Goal:** Load your dataset into a Pandas DataFrame for analysis.\n",
    "\n"
   ]
  },
  {
   "cell_type": "code",
   "execution_count": 2,
   "id": "83cb976d-12cb-42b8-a087-60457aaa8c67",
   "metadata": {},
   "outputs": [
    {
     "name": "stdout",
     "output_type": "stream",
     "text": [
      " Zomato data loaded successfully.\n"
     ]
    }
   ],
   "source": [
    "try:\n",
    "    df = pd.read_csv(\"Zomato Restaurant names and Metadata.csv\")\n",
    "    print(\" Zomato data loaded successfully.\")\n",
    "except Exception as e:\n",
    "    print(\" Error loading Zomato data:\", e)\n"
   ]
  },
  {
   "cell_type": "code",
   "execution_count": 3,
   "id": "3f7fb76a-76ed-4e33-be77-43c90429f30c",
   "metadata": {},
   "outputs": [
    {
     "name": "stdout",
     "output_type": "stream",
     "text": [
      " Review data loaded successfully.\n"
     ]
    }
   ],
   "source": [
    "try:\n",
    "    review_df = pd.read_csv(\"Zomato Restaurant reviews.csv\")\n",
    "    print(\" Review data loaded successfully.\")\n",
    "except Exception as e:\n",
    "    print(\" Error loading review data:\", e)"
   ]
  },
  {
   "cell_type": "code",
   "execution_count": 4,
   "id": "13693fbe-1c94-45ef-bab1-3d190ed67da2",
   "metadata": {},
   "outputs": [
    {
     "data": {
      "text/plain": [
       "(105, 6)"
      ]
     },
     "execution_count": 4,
     "metadata": {},
     "output_type": "execute_result"
    }
   ],
   "source": [
    "df.shape"
   ]
  },
  {
   "cell_type": "code",
   "execution_count": 5,
   "id": "235773b0-dece-403f-b8a5-303ba2c78426",
   "metadata": {},
   "outputs": [
    {
     "data": {
      "text/html": [
       "<div>\n",
       "<style scoped>\n",
       "    .dataframe tbody tr th:only-of-type {\n",
       "        vertical-align: middle;\n",
       "    }\n",
       "\n",
       "    .dataframe tbody tr th {\n",
       "        vertical-align: top;\n",
       "    }\n",
       "\n",
       "    .dataframe thead th {\n",
       "        text-align: right;\n",
       "    }\n",
       "</style>\n",
       "<table border=\"1\" class=\"dataframe\">\n",
       "  <thead>\n",
       "    <tr style=\"text-align: right;\">\n",
       "      <th></th>\n",
       "      <th>Name</th>\n",
       "      <th>Links</th>\n",
       "      <th>Cost</th>\n",
       "      <th>Collections</th>\n",
       "      <th>Cuisines</th>\n",
       "      <th>Timings</th>\n",
       "    </tr>\n",
       "  </thead>\n",
       "  <tbody>\n",
       "    <tr>\n",
       "      <th>0</th>\n",
       "      <td>Beyond Flavours</td>\n",
       "      <td>https://www.zomato.com/hyderabad/beyond-flavou...</td>\n",
       "      <td>800</td>\n",
       "      <td>Food Hygiene Rated Restaurants in Hyderabad, C...</td>\n",
       "      <td>Chinese, Continental, Kebab, European, South I...</td>\n",
       "      <td>12noon to 3:30pm, 6:30pm to 11:30pm (Mon-Sun)</td>\n",
       "    </tr>\n",
       "    <tr>\n",
       "      <th>1</th>\n",
       "      <td>Paradise</td>\n",
       "      <td>https://www.zomato.com/hyderabad/paradise-gach...</td>\n",
       "      <td>800</td>\n",
       "      <td>Hyderabad's Hottest</td>\n",
       "      <td>Biryani, North Indian, Chinese</td>\n",
       "      <td>11 AM to 11 PM</td>\n",
       "    </tr>\n",
       "    <tr>\n",
       "      <th>2</th>\n",
       "      <td>Flechazo</td>\n",
       "      <td>https://www.zomato.com/hyderabad/flechazo-gach...</td>\n",
       "      <td>1,300</td>\n",
       "      <td>Great Buffets, Hyderabad's Hottest</td>\n",
       "      <td>Asian, Mediterranean, North Indian, Desserts</td>\n",
       "      <td>11:30 AM to 4:30 PM, 6:30 PM to 11 PM</td>\n",
       "    </tr>\n",
       "    <tr>\n",
       "      <th>3</th>\n",
       "      <td>Shah Ghouse Hotel &amp; Restaurant</td>\n",
       "      <td>https://www.zomato.com/hyderabad/shah-ghouse-h...</td>\n",
       "      <td>800</td>\n",
       "      <td>Late Night Restaurants</td>\n",
       "      <td>Biryani, North Indian, Chinese, Seafood, Bever...</td>\n",
       "      <td>12 Noon to 2 AM</td>\n",
       "    </tr>\n",
       "    <tr>\n",
       "      <th>4</th>\n",
       "      <td>Over The Moon Brew Company</td>\n",
       "      <td>https://www.zomato.com/hyderabad/over-the-moon...</td>\n",
       "      <td>1,200</td>\n",
       "      <td>Best Bars &amp; Pubs, Food Hygiene Rated Restauran...</td>\n",
       "      <td>Asian, Continental, North Indian, Chinese, Med...</td>\n",
       "      <td>12noon to 11pm (Mon, Tue, Wed, Thu, Sun), 12no...</td>\n",
       "    </tr>\n",
       "  </tbody>\n",
       "</table>\n",
       "</div>"
      ],
      "text/plain": [
       "                             Name  \\\n",
       "0                 Beyond Flavours   \n",
       "1                        Paradise   \n",
       "2                        Flechazo   \n",
       "3  Shah Ghouse Hotel & Restaurant   \n",
       "4      Over The Moon Brew Company   \n",
       "\n",
       "                                               Links   Cost  \\\n",
       "0  https://www.zomato.com/hyderabad/beyond-flavou...    800   \n",
       "1  https://www.zomato.com/hyderabad/paradise-gach...    800   \n",
       "2  https://www.zomato.com/hyderabad/flechazo-gach...  1,300   \n",
       "3  https://www.zomato.com/hyderabad/shah-ghouse-h...    800   \n",
       "4  https://www.zomato.com/hyderabad/over-the-moon...  1,200   \n",
       "\n",
       "                                         Collections  \\\n",
       "0  Food Hygiene Rated Restaurants in Hyderabad, C...   \n",
       "1                                Hyderabad's Hottest   \n",
       "2                 Great Buffets, Hyderabad's Hottest   \n",
       "3                             Late Night Restaurants   \n",
       "4  Best Bars & Pubs, Food Hygiene Rated Restauran...   \n",
       "\n",
       "                                            Cuisines  \\\n",
       "0  Chinese, Continental, Kebab, European, South I...   \n",
       "1                     Biryani, North Indian, Chinese   \n",
       "2       Asian, Mediterranean, North Indian, Desserts   \n",
       "3  Biryani, North Indian, Chinese, Seafood, Bever...   \n",
       "4  Asian, Continental, North Indian, Chinese, Med...   \n",
       "\n",
       "                                             Timings  \n",
       "0      12noon to 3:30pm, 6:30pm to 11:30pm (Mon-Sun)  \n",
       "1                                     11 AM to 11 PM  \n",
       "2              11:30 AM to 4:30 PM, 6:30 PM to 11 PM  \n",
       "3                                    12 Noon to 2 AM  \n",
       "4  12noon to 11pm (Mon, Tue, Wed, Thu, Sun), 12no...  "
      ]
     },
     "execution_count": 5,
     "metadata": {},
     "output_type": "execute_result"
    }
   ],
   "source": [
    "df.head()"
   ]
  },
  {
   "cell_type": "code",
   "execution_count": 6,
   "id": "6e5211bd-63c4-425e-ba90-770d4edec3c7",
   "metadata": {},
   "outputs": [
    {
     "name": "stdout",
     "output_type": "stream",
     "text": [
      "<class 'pandas.core.frame.DataFrame'>\n",
      "RangeIndex: 105 entries, 0 to 104\n",
      "Data columns (total 6 columns):\n",
      " #   Column       Non-Null Count  Dtype \n",
      "---  ------       --------------  ----- \n",
      " 0   Name         105 non-null    object\n",
      " 1   Links        105 non-null    object\n",
      " 2   Cost         105 non-null    object\n",
      " 3   Collections  51 non-null     object\n",
      " 4   Cuisines     105 non-null    object\n",
      " 5   Timings      104 non-null    object\n",
      "dtypes: object(6)\n",
      "memory usage: 5.1+ KB\n"
     ]
    }
   ],
   "source": [
    "df.info()"
   ]
  },
  {
   "cell_type": "code",
   "execution_count": 7,
   "id": "8a6f48f2-998e-4a82-9c52-06d2c736419d",
   "metadata": {},
   "outputs": [
    {
     "data": {
      "text/plain": [
       "(10000, 7)"
      ]
     },
     "execution_count": 7,
     "metadata": {},
     "output_type": "execute_result"
    }
   ],
   "source": [
    "review_df.shape"
   ]
  },
  {
   "cell_type": "code",
   "execution_count": 8,
   "id": "721fb978-3d15-4115-80a0-be833fb7a1db",
   "metadata": {},
   "outputs": [
    {
     "data": {
      "text/html": [
       "<div>\n",
       "<style scoped>\n",
       "    .dataframe tbody tr th:only-of-type {\n",
       "        vertical-align: middle;\n",
       "    }\n",
       "\n",
       "    .dataframe tbody tr th {\n",
       "        vertical-align: top;\n",
       "    }\n",
       "\n",
       "    .dataframe thead th {\n",
       "        text-align: right;\n",
       "    }\n",
       "</style>\n",
       "<table border=\"1\" class=\"dataframe\">\n",
       "  <thead>\n",
       "    <tr style=\"text-align: right;\">\n",
       "      <th></th>\n",
       "      <th>Restaurant</th>\n",
       "      <th>Reviewer</th>\n",
       "      <th>Review</th>\n",
       "      <th>Rating</th>\n",
       "      <th>Metadata</th>\n",
       "      <th>Time</th>\n",
       "      <th>Pictures</th>\n",
       "    </tr>\n",
       "  </thead>\n",
       "  <tbody>\n",
       "    <tr>\n",
       "      <th>0</th>\n",
       "      <td>Beyond Flavours</td>\n",
       "      <td>Rusha Chakraborty</td>\n",
       "      <td>The ambience was good, food was quite good . h...</td>\n",
       "      <td>5</td>\n",
       "      <td>1 Review , 2 Followers</td>\n",
       "      <td>5/25/2019 15:54</td>\n",
       "      <td>0</td>\n",
       "    </tr>\n",
       "    <tr>\n",
       "      <th>1</th>\n",
       "      <td>Beyond Flavours</td>\n",
       "      <td>Anusha Tirumalaneedi</td>\n",
       "      <td>Ambience is too good for a pleasant evening. S...</td>\n",
       "      <td>5</td>\n",
       "      <td>3 Reviews , 2 Followers</td>\n",
       "      <td>5/25/2019 14:20</td>\n",
       "      <td>0</td>\n",
       "    </tr>\n",
       "    <tr>\n",
       "      <th>2</th>\n",
       "      <td>Beyond Flavours</td>\n",
       "      <td>Ashok Shekhawat</td>\n",
       "      <td>A must try.. great food great ambience. Thnx f...</td>\n",
       "      <td>5</td>\n",
       "      <td>2 Reviews , 3 Followers</td>\n",
       "      <td>5/24/2019 22:54</td>\n",
       "      <td>0</td>\n",
       "    </tr>\n",
       "    <tr>\n",
       "      <th>3</th>\n",
       "      <td>Beyond Flavours</td>\n",
       "      <td>Swapnil Sarkar</td>\n",
       "      <td>Soumen das and Arun was a great guy. Only beca...</td>\n",
       "      <td>5</td>\n",
       "      <td>1 Review , 1 Follower</td>\n",
       "      <td>5/24/2019 22:11</td>\n",
       "      <td>0</td>\n",
       "    </tr>\n",
       "    <tr>\n",
       "      <th>4</th>\n",
       "      <td>Beyond Flavours</td>\n",
       "      <td>Dileep</td>\n",
       "      <td>Food is good.we ordered Kodi drumsticks and ba...</td>\n",
       "      <td>5</td>\n",
       "      <td>3 Reviews , 2 Followers</td>\n",
       "      <td>5/24/2019 21:37</td>\n",
       "      <td>0</td>\n",
       "    </tr>\n",
       "  </tbody>\n",
       "</table>\n",
       "</div>"
      ],
      "text/plain": [
       "        Restaurant              Reviewer  \\\n",
       "0  Beyond Flavours     Rusha Chakraborty   \n",
       "1  Beyond Flavours  Anusha Tirumalaneedi   \n",
       "2  Beyond Flavours       Ashok Shekhawat   \n",
       "3  Beyond Flavours        Swapnil Sarkar   \n",
       "4  Beyond Flavours                Dileep   \n",
       "\n",
       "                                              Review Rating  \\\n",
       "0  The ambience was good, food was quite good . h...      5   \n",
       "1  Ambience is too good for a pleasant evening. S...      5   \n",
       "2  A must try.. great food great ambience. Thnx f...      5   \n",
       "3  Soumen das and Arun was a great guy. Only beca...      5   \n",
       "4  Food is good.we ordered Kodi drumsticks and ba...      5   \n",
       "\n",
       "                  Metadata             Time  Pictures  \n",
       "0   1 Review , 2 Followers  5/25/2019 15:54         0  \n",
       "1  3 Reviews , 2 Followers  5/25/2019 14:20         0  \n",
       "2  2 Reviews , 3 Followers  5/24/2019 22:54         0  \n",
       "3    1 Review , 1 Follower  5/24/2019 22:11         0  \n",
       "4  3 Reviews , 2 Followers  5/24/2019 21:37         0  "
      ]
     },
     "execution_count": 8,
     "metadata": {},
     "output_type": "execute_result"
    }
   ],
   "source": [
    "review_df.head()"
   ]
  },
  {
   "cell_type": "code",
   "execution_count": 9,
   "id": "0230a5e8-5b40-4a01-808a-348a47d97e5f",
   "metadata": {},
   "outputs": [
    {
     "name": "stdout",
     "output_type": "stream",
     "text": [
      "<class 'pandas.core.frame.DataFrame'>\n",
      "RangeIndex: 10000 entries, 0 to 9999\n",
      "Data columns (total 7 columns):\n",
      " #   Column      Non-Null Count  Dtype \n",
      "---  ------      --------------  ----- \n",
      " 0   Restaurant  10000 non-null  object\n",
      " 1   Reviewer    9962 non-null   object\n",
      " 2   Review      9955 non-null   object\n",
      " 3   Rating      9962 non-null   object\n",
      " 4   Metadata    9962 non-null   object\n",
      " 5   Time        9962 non-null   object\n",
      " 6   Pictures    10000 non-null  int64 \n",
      "dtypes: int64(1), object(6)\n",
      "memory usage: 547.0+ KB\n"
     ]
    }
   ],
   "source": [
    "review_df.info()"
   ]
  },
  {
   "cell_type": "markdown",
   "id": "83bd699e-b5f6-4ef5-b698-0690d842521e",
   "metadata": {},
   "source": [
    "## Step 2: Data Cleaning & Preprocessing\n",
    "\n",
    "**Goal:**\n",
    "- Clean both datasets (`zomato.csv` and `zomato_reviews.csv`)\n",
    "- Make them analysis-ready\n",
    "- Prepare for EDA, NLP, and Clustering\n",
    "\n",
    "---\n",
    "\n",
    "### Why Cleaning is Important?\n",
    "\n",
    "Raw data often contains:\n",
    "- Missing values\n",
    "- Duplicates\n",
    "- Inconsistent formats (e.g., commas in numbers, mixed cases)\n",
    "- Unnecessary columns\n",
    "\n",
    "Cleaning ensures reliable and accurate insights from your analysis.\n",
    "\n",
    "---\n",
    "\n",
    "### Common Cleaning Tasks We'll Perform\n",
    "\n",
    "- Handle missing/null values\n",
    "- Remove duplicates\n",
    "- Clean columns like `Price`, `Rating`, `Cost` (remove commas, convert to numeric)\n",
    "- Normalize text (lowercase, strip whitespace)\n",
    "- Drop irrelevant or redundant columns\n",
    "- Prepare text columns for **Sentiment Analysis**\n",
    "- Format numerical/categorical columns for **Clustering**"
   ]
  },
  {
   "cell_type": "code",
   "execution_count": 10,
   "id": "6c59b521-1b5e-40e9-8ad3-152e3d92ec81",
   "metadata": {},
   "outputs": [],
   "source": [
    "## Check and Remove Duplicates on the both Dataset"
   ]
  },
  {
   "cell_type": "code",
   "execution_count": 11,
   "id": "aff43a32-012b-4dd2-8266-ef3df6c9a70f",
   "metadata": {},
   "outputs": [
    {
     "data": {
      "text/plain": [
       "np.False_"
      ]
     },
     "execution_count": 11,
     "metadata": {},
     "output_type": "execute_result"
    }
   ],
   "source": [
    "df.duplicated().any()"
   ]
  },
  {
   "cell_type": "code",
   "execution_count": 12,
   "id": "cd3dd6fe-0ba0-47c5-a3eb-960da40cc653",
   "metadata": {},
   "outputs": [
    {
     "data": {
      "text/plain": [
       "np.True_"
      ]
     },
     "execution_count": 12,
     "metadata": {},
     "output_type": "execute_result"
    }
   ],
   "source": [
    "review_df.duplicated().any()"
   ]
  },
  {
   "cell_type": "code",
   "execution_count": 13,
   "id": "a67b5072-ae2d-4d71-a203-0a2f775259e8",
   "metadata": {},
   "outputs": [
    {
     "data": {
      "text/plain": [
       "np.int64(36)"
      ]
     },
     "execution_count": 13,
     "metadata": {},
     "output_type": "execute_result"
    }
   ],
   "source": [
    "review_df.duplicated().sum()"
   ]
  },
  {
   "cell_type": "code",
   "execution_count": 14,
   "id": "0b6ed0c6-4d42-4bda-8fd6-1e96a77a8a72",
   "metadata": {},
   "outputs": [],
   "source": [
    "review_df.drop_duplicates(inplace=True)"
   ]
  },
  {
   "cell_type": "code",
   "execution_count": 15,
   "id": "88b8ee37-9194-4f7a-80b1-ef32098a7bfb",
   "metadata": {},
   "outputs": [
    {
     "data": {
      "text/plain": [
       "np.False_"
      ]
     },
     "execution_count": 15,
     "metadata": {},
     "output_type": "execute_result"
    }
   ],
   "source": [
    "review_df.duplicated().any()"
   ]
  },
  {
   "cell_type": "code",
   "execution_count": 16,
   "id": "08960e99-e766-4183-891e-ad7812d01f34",
   "metadata": {},
   "outputs": [],
   "source": [
    "# Check data types and structure"
   ]
  },
  {
   "cell_type": "code",
   "execution_count": 17,
   "id": "894421cc-05b8-42c8-b4ec-0280c17a1b47",
   "metadata": {},
   "outputs": [
    {
     "data": {
      "text/plain": [
       "Name           object\n",
       "Links          object\n",
       "Cost           object\n",
       "Collections    object\n",
       "Cuisines       object\n",
       "Timings        object\n",
       "dtype: object"
      ]
     },
     "execution_count": 17,
     "metadata": {},
     "output_type": "execute_result"
    }
   ],
   "source": [
    "df.dtypes"
   ]
  },
  {
   "cell_type": "code",
   "execution_count": 18,
   "id": "66d5fe02-35f0-4038-a68c-826663e427ea",
   "metadata": {},
   "outputs": [
    {
     "data": {
      "text/plain": [
       "Restaurant    object\n",
       "Reviewer      object\n",
       "Review        object\n",
       "Rating        object\n",
       "Metadata      object\n",
       "Time          object\n",
       "Pictures       int64\n",
       "dtype: object"
      ]
     },
     "execution_count": 18,
     "metadata": {},
     "output_type": "execute_result"
    }
   ],
   "source": [
    "review_df.dtypes"
   ]
  },
  {
   "cell_type": "code",
   "execution_count": 19,
   "id": "a06e1242-7994-4781-83e4-d6381ec59ce1",
   "metadata": {},
   "outputs": [],
   "source": [
    "#  Drop rows with too many nulls (e.g., more than 3 nulls)\n"
   ]
  },
  {
   "cell_type": "code",
   "execution_count": 20,
   "id": "d9d49f5a-f17d-4af1-9f83-bdb0d9c019bc",
   "metadata": {},
   "outputs": [],
   "source": [
    "df.dropna(thresh=len(df.columns) - 3, inplace=True)"
   ]
  },
  {
   "cell_type": "code",
   "execution_count": 21,
   "id": "037f8d50-64f8-435e-80f4-5a0e3beb8b20",
   "metadata": {},
   "outputs": [
    {
     "data": {
      "text/html": [
       "<div>\n",
       "<style scoped>\n",
       "    .dataframe tbody tr th:only-of-type {\n",
       "        vertical-align: middle;\n",
       "    }\n",
       "\n",
       "    .dataframe tbody tr th {\n",
       "        vertical-align: top;\n",
       "    }\n",
       "\n",
       "    .dataframe thead th {\n",
       "        text-align: right;\n",
       "    }\n",
       "</style>\n",
       "<table border=\"1\" class=\"dataframe\">\n",
       "  <thead>\n",
       "    <tr style=\"text-align: right;\">\n",
       "      <th></th>\n",
       "      <th>Name</th>\n",
       "      <th>Links</th>\n",
       "      <th>Cost</th>\n",
       "      <th>Collections</th>\n",
       "      <th>Cuisines</th>\n",
       "      <th>Timings</th>\n",
       "    </tr>\n",
       "  </thead>\n",
       "  <tbody>\n",
       "    <tr>\n",
       "      <th>0</th>\n",
       "      <td>Beyond Flavours</td>\n",
       "      <td>https://www.zomato.com/hyderabad/beyond-flavou...</td>\n",
       "      <td>800</td>\n",
       "      <td>Food Hygiene Rated Restaurants in Hyderabad, C...</td>\n",
       "      <td>Chinese, Continental, Kebab, European, South I...</td>\n",
       "      <td>12noon to 3:30pm, 6:30pm to 11:30pm (Mon-Sun)</td>\n",
       "    </tr>\n",
       "    <tr>\n",
       "      <th>1</th>\n",
       "      <td>Paradise</td>\n",
       "      <td>https://www.zomato.com/hyderabad/paradise-gach...</td>\n",
       "      <td>800</td>\n",
       "      <td>Hyderabad's Hottest</td>\n",
       "      <td>Biryani, North Indian, Chinese</td>\n",
       "      <td>11 AM to 11 PM</td>\n",
       "    </tr>\n",
       "    <tr>\n",
       "      <th>2</th>\n",
       "      <td>Flechazo</td>\n",
       "      <td>https://www.zomato.com/hyderabad/flechazo-gach...</td>\n",
       "      <td>1,300</td>\n",
       "      <td>Great Buffets, Hyderabad's Hottest</td>\n",
       "      <td>Asian, Mediterranean, North Indian, Desserts</td>\n",
       "      <td>11:30 AM to 4:30 PM, 6:30 PM to 11 PM</td>\n",
       "    </tr>\n",
       "    <tr>\n",
       "      <th>3</th>\n",
       "      <td>Shah Ghouse Hotel &amp; Restaurant</td>\n",
       "      <td>https://www.zomato.com/hyderabad/shah-ghouse-h...</td>\n",
       "      <td>800</td>\n",
       "      <td>Late Night Restaurants</td>\n",
       "      <td>Biryani, North Indian, Chinese, Seafood, Bever...</td>\n",
       "      <td>12 Noon to 2 AM</td>\n",
       "    </tr>\n",
       "    <tr>\n",
       "      <th>4</th>\n",
       "      <td>Over The Moon Brew Company</td>\n",
       "      <td>https://www.zomato.com/hyderabad/over-the-moon...</td>\n",
       "      <td>1,200</td>\n",
       "      <td>Best Bars &amp; Pubs, Food Hygiene Rated Restauran...</td>\n",
       "      <td>Asian, Continental, North Indian, Chinese, Med...</td>\n",
       "      <td>12noon to 11pm (Mon, Tue, Wed, Thu, Sun), 12no...</td>\n",
       "    </tr>\n",
       "  </tbody>\n",
       "</table>\n",
       "</div>"
      ],
      "text/plain": [
       "                             Name  \\\n",
       "0                 Beyond Flavours   \n",
       "1                        Paradise   \n",
       "2                        Flechazo   \n",
       "3  Shah Ghouse Hotel & Restaurant   \n",
       "4      Over The Moon Brew Company   \n",
       "\n",
       "                                               Links   Cost  \\\n",
       "0  https://www.zomato.com/hyderabad/beyond-flavou...    800   \n",
       "1  https://www.zomato.com/hyderabad/paradise-gach...    800   \n",
       "2  https://www.zomato.com/hyderabad/flechazo-gach...  1,300   \n",
       "3  https://www.zomato.com/hyderabad/shah-ghouse-h...    800   \n",
       "4  https://www.zomato.com/hyderabad/over-the-moon...  1,200   \n",
       "\n",
       "                                         Collections  \\\n",
       "0  Food Hygiene Rated Restaurants in Hyderabad, C...   \n",
       "1                                Hyderabad's Hottest   \n",
       "2                 Great Buffets, Hyderabad's Hottest   \n",
       "3                             Late Night Restaurants   \n",
       "4  Best Bars & Pubs, Food Hygiene Rated Restauran...   \n",
       "\n",
       "                                            Cuisines  \\\n",
       "0  Chinese, Continental, Kebab, European, South I...   \n",
       "1                     Biryani, North Indian, Chinese   \n",
       "2       Asian, Mediterranean, North Indian, Desserts   \n",
       "3  Biryani, North Indian, Chinese, Seafood, Bever...   \n",
       "4  Asian, Continental, North Indian, Chinese, Med...   \n",
       "\n",
       "                                             Timings  \n",
       "0      12noon to 3:30pm, 6:30pm to 11:30pm (Mon-Sun)  \n",
       "1                                     11 AM to 11 PM  \n",
       "2              11:30 AM to 4:30 PM, 6:30 PM to 11 PM  \n",
       "3                                    12 Noon to 2 AM  \n",
       "4  12noon to 11pm (Mon, Tue, Wed, Thu, Sun), 12no...  "
      ]
     },
     "execution_count": 21,
     "metadata": {},
     "output_type": "execute_result"
    }
   ],
   "source": [
    "df.head()"
   ]
  },
  {
   "cell_type": "code",
   "execution_count": 22,
   "id": "36979a45-d3c5-4250-9524-b3bb0ada62a7",
   "metadata": {},
   "outputs": [],
   "source": [
    "# Normalize column names"
   ]
  },
  {
   "cell_type": "code",
   "execution_count": 23,
   "id": "d2ffba48-f171-4ae4-ae7c-26ac68dd07a7",
   "metadata": {},
   "outputs": [],
   "source": [
    "df.columns = df.columns.str.strip().str.lower().str.replace(\" \", \"_\")"
   ]
  },
  {
   "cell_type": "code",
   "execution_count": 24,
   "id": "bd3273b3-1236-42ca-afa6-d16ec361f23f",
   "metadata": {},
   "outputs": [
    {
     "data": {
      "text/html": [
       "<div>\n",
       "<style scoped>\n",
       "    .dataframe tbody tr th:only-of-type {\n",
       "        vertical-align: middle;\n",
       "    }\n",
       "\n",
       "    .dataframe tbody tr th {\n",
       "        vertical-align: top;\n",
       "    }\n",
       "\n",
       "    .dataframe thead th {\n",
       "        text-align: right;\n",
       "    }\n",
       "</style>\n",
       "<table border=\"1\" class=\"dataframe\">\n",
       "  <thead>\n",
       "    <tr style=\"text-align: right;\">\n",
       "      <th></th>\n",
       "      <th>name</th>\n",
       "      <th>links</th>\n",
       "      <th>cost</th>\n",
       "      <th>collections</th>\n",
       "      <th>cuisines</th>\n",
       "      <th>timings</th>\n",
       "    </tr>\n",
       "  </thead>\n",
       "  <tbody>\n",
       "    <tr>\n",
       "      <th>0</th>\n",
       "      <td>Beyond Flavours</td>\n",
       "      <td>https://www.zomato.com/hyderabad/beyond-flavou...</td>\n",
       "      <td>800</td>\n",
       "      <td>Food Hygiene Rated Restaurants in Hyderabad, C...</td>\n",
       "      <td>Chinese, Continental, Kebab, European, South I...</td>\n",
       "      <td>12noon to 3:30pm, 6:30pm to 11:30pm (Mon-Sun)</td>\n",
       "    </tr>\n",
       "    <tr>\n",
       "      <th>1</th>\n",
       "      <td>Paradise</td>\n",
       "      <td>https://www.zomato.com/hyderabad/paradise-gach...</td>\n",
       "      <td>800</td>\n",
       "      <td>Hyderabad's Hottest</td>\n",
       "      <td>Biryani, North Indian, Chinese</td>\n",
       "      <td>11 AM to 11 PM</td>\n",
       "    </tr>\n",
       "    <tr>\n",
       "      <th>2</th>\n",
       "      <td>Flechazo</td>\n",
       "      <td>https://www.zomato.com/hyderabad/flechazo-gach...</td>\n",
       "      <td>1,300</td>\n",
       "      <td>Great Buffets, Hyderabad's Hottest</td>\n",
       "      <td>Asian, Mediterranean, North Indian, Desserts</td>\n",
       "      <td>11:30 AM to 4:30 PM, 6:30 PM to 11 PM</td>\n",
       "    </tr>\n",
       "    <tr>\n",
       "      <th>3</th>\n",
       "      <td>Shah Ghouse Hotel &amp; Restaurant</td>\n",
       "      <td>https://www.zomato.com/hyderabad/shah-ghouse-h...</td>\n",
       "      <td>800</td>\n",
       "      <td>Late Night Restaurants</td>\n",
       "      <td>Biryani, North Indian, Chinese, Seafood, Bever...</td>\n",
       "      <td>12 Noon to 2 AM</td>\n",
       "    </tr>\n",
       "    <tr>\n",
       "      <th>4</th>\n",
       "      <td>Over The Moon Brew Company</td>\n",
       "      <td>https://www.zomato.com/hyderabad/over-the-moon...</td>\n",
       "      <td>1,200</td>\n",
       "      <td>Best Bars &amp; Pubs, Food Hygiene Rated Restauran...</td>\n",
       "      <td>Asian, Continental, North Indian, Chinese, Med...</td>\n",
       "      <td>12noon to 11pm (Mon, Tue, Wed, Thu, Sun), 12no...</td>\n",
       "    </tr>\n",
       "  </tbody>\n",
       "</table>\n",
       "</div>"
      ],
      "text/plain": [
       "                             name  \\\n",
       "0                 Beyond Flavours   \n",
       "1                        Paradise   \n",
       "2                        Flechazo   \n",
       "3  Shah Ghouse Hotel & Restaurant   \n",
       "4      Over The Moon Brew Company   \n",
       "\n",
       "                                               links   cost  \\\n",
       "0  https://www.zomato.com/hyderabad/beyond-flavou...    800   \n",
       "1  https://www.zomato.com/hyderabad/paradise-gach...    800   \n",
       "2  https://www.zomato.com/hyderabad/flechazo-gach...  1,300   \n",
       "3  https://www.zomato.com/hyderabad/shah-ghouse-h...    800   \n",
       "4  https://www.zomato.com/hyderabad/over-the-moon...  1,200   \n",
       "\n",
       "                                         collections  \\\n",
       "0  Food Hygiene Rated Restaurants in Hyderabad, C...   \n",
       "1                                Hyderabad's Hottest   \n",
       "2                 Great Buffets, Hyderabad's Hottest   \n",
       "3                             Late Night Restaurants   \n",
       "4  Best Bars & Pubs, Food Hygiene Rated Restauran...   \n",
       "\n",
       "                                            cuisines  \\\n",
       "0  Chinese, Continental, Kebab, European, South I...   \n",
       "1                     Biryani, North Indian, Chinese   \n",
       "2       Asian, Mediterranean, North Indian, Desserts   \n",
       "3  Biryani, North Indian, Chinese, Seafood, Bever...   \n",
       "4  Asian, Continental, North Indian, Chinese, Med...   \n",
       "\n",
       "                                             timings  \n",
       "0      12noon to 3:30pm, 6:30pm to 11:30pm (Mon-Sun)  \n",
       "1                                     11 AM to 11 PM  \n",
       "2              11:30 AM to 4:30 PM, 6:30 PM to 11 PM  \n",
       "3                                    12 Noon to 2 AM  \n",
       "4  12noon to 11pm (Mon, Tue, Wed, Thu, Sun), 12no...  "
      ]
     },
     "execution_count": 24,
     "metadata": {},
     "output_type": "execute_result"
    }
   ],
   "source": [
    "df.head()"
   ]
  },
  {
   "cell_type": "code",
   "execution_count": 25,
   "id": "1d1445f3-61c9-451e-929c-843864e5a198",
   "metadata": {},
   "outputs": [],
   "source": [
    "# Clean 'cost' column (remove commas, convert to numeric)"
   ]
  },
  {
   "cell_type": "code",
   "execution_count": 26,
   "id": "1a88267c-ca28-450a-8843-dea330a2f2b6",
   "metadata": {},
   "outputs": [],
   "source": [
    "df['cost'] = df['cost'].astype(str).str.replace(',', '', regex=False)\n",
    "df['cost'] = pd.to_numeric(df['cost'], errors='coerce')"
   ]
  },
  {
   "cell_type": "code",
   "execution_count": 27,
   "id": "6d5c85b1-3d7a-4b7d-a207-da4bb199d4f6",
   "metadata": {},
   "outputs": [
    {
     "name": "stdout",
     "output_type": "stream",
     "text": [
      "['name', 'links', 'cost', 'collections', 'cuisines', 'timings']\n"
     ]
    }
   ],
   "source": [
    "print(df.columns.tolist())\n"
   ]
  },
  {
   "cell_type": "code",
   "execution_count": 28,
   "id": "e5c6fe7e-0802-48d0-9500-e75e79c72d96",
   "metadata": {},
   "outputs": [
    {
     "data": {
      "text/html": [
       "<div>\n",
       "<style scoped>\n",
       "    .dataframe tbody tr th:only-of-type {\n",
       "        vertical-align: middle;\n",
       "    }\n",
       "\n",
       "    .dataframe tbody tr th {\n",
       "        vertical-align: top;\n",
       "    }\n",
       "\n",
       "    .dataframe thead th {\n",
       "        text-align: right;\n",
       "    }\n",
       "</style>\n",
       "<table border=\"1\" class=\"dataframe\">\n",
       "  <thead>\n",
       "    <tr style=\"text-align: right;\">\n",
       "      <th></th>\n",
       "      <th>cost</th>\n",
       "    </tr>\n",
       "  </thead>\n",
       "  <tbody>\n",
       "    <tr>\n",
       "      <th>count</th>\n",
       "      <td>105.000000</td>\n",
       "    </tr>\n",
       "    <tr>\n",
       "      <th>mean</th>\n",
       "      <td>861.428571</td>\n",
       "    </tr>\n",
       "    <tr>\n",
       "      <th>std</th>\n",
       "      <td>510.149730</td>\n",
       "    </tr>\n",
       "    <tr>\n",
       "      <th>min</th>\n",
       "      <td>150.000000</td>\n",
       "    </tr>\n",
       "    <tr>\n",
       "      <th>25%</th>\n",
       "      <td>500.000000</td>\n",
       "    </tr>\n",
       "    <tr>\n",
       "      <th>50%</th>\n",
       "      <td>700.000000</td>\n",
       "    </tr>\n",
       "    <tr>\n",
       "      <th>75%</th>\n",
       "      <td>1200.000000</td>\n",
       "    </tr>\n",
       "    <tr>\n",
       "      <th>max</th>\n",
       "      <td>2800.000000</td>\n",
       "    </tr>\n",
       "  </tbody>\n",
       "</table>\n",
       "</div>"
      ],
      "text/plain": [
       "              cost\n",
       "count   105.000000\n",
       "mean    861.428571\n",
       "std     510.149730\n",
       "min     150.000000\n",
       "25%     500.000000\n",
       "50%     700.000000\n",
       "75%    1200.000000\n",
       "max    2800.000000"
      ]
     },
     "execution_count": 28,
     "metadata": {},
     "output_type": "execute_result"
    }
   ],
   "source": [
    "df.describe()"
   ]
  },
  {
   "cell_type": "code",
   "execution_count": 29,
   "id": "5d5e3b98-4709-474e-9b8e-6894885a2399",
   "metadata": {},
   "outputs": [
    {
     "name": "stdout",
     "output_type": "stream",
     "text": [
      "<class 'pandas.core.frame.DataFrame'>\n",
      "RangeIndex: 105 entries, 0 to 104\n",
      "Data columns (total 6 columns):\n",
      " #   Column       Non-Null Count  Dtype \n",
      "---  ------       --------------  ----- \n",
      " 0   name         105 non-null    object\n",
      " 1   links        105 non-null    object\n",
      " 2   cost         105 non-null    int64 \n",
      " 3   collections  51 non-null     object\n",
      " 4   cuisines     105 non-null    object\n",
      " 5   timings      104 non-null    object\n",
      "dtypes: int64(1), object(5)\n",
      "memory usage: 5.1+ KB\n"
     ]
    }
   ],
   "source": [
    "df.info()"
   ]
  },
  {
   "cell_type": "code",
   "execution_count": 30,
   "id": "2a039c58-e362-440a-b636-f815642fda4f",
   "metadata": {},
   "outputs": [],
   "source": [
    "#  Fill missing 'cost' with median value"
   ]
  },
  {
   "cell_type": "code",
   "execution_count": 31,
   "id": "cddc2d06-7fe2-4b15-88dc-c8a60dba9fe4",
   "metadata": {},
   "outputs": [],
   "source": [
    "df['cost'] = df['cost'].fillna(df['cost'].median())"
   ]
  },
  {
   "cell_type": "code",
   "execution_count": 32,
   "id": "a098c489-e914-4212-85a4-3d6309f07c2a",
   "metadata": {},
   "outputs": [],
   "source": [
    "# Handle missing values in other important columns"
   ]
  },
  {
   "cell_type": "code",
   "execution_count": 33,
   "id": "5087c62e-451a-4069-ac1d-cf7a4cb8cb1f",
   "metadata": {},
   "outputs": [],
   "source": [
    "df['collections'] = df['collections'].fillna('Not listed')\n",
    "df['timings'] = df['timings'].fillna('Unknown')"
   ]
  },
  {
   "cell_type": "code",
   "execution_count": 34,
   "id": "865e46f4-eeb7-49b5-9a94-121a7c87a63c",
   "metadata": {},
   "outputs": [
    {
     "name": "stdout",
     "output_type": "stream",
     "text": [
      "<class 'pandas.core.frame.DataFrame'>\n",
      "RangeIndex: 105 entries, 0 to 104\n",
      "Data columns (total 6 columns):\n",
      " #   Column       Non-Null Count  Dtype \n",
      "---  ------       --------------  ----- \n",
      " 0   name         105 non-null    object\n",
      " 1   links        105 non-null    object\n",
      " 2   cost         105 non-null    int64 \n",
      " 3   collections  105 non-null    object\n",
      " 4   cuisines     105 non-null    object\n",
      " 5   timings      105 non-null    object\n",
      "dtypes: int64(1), object(5)\n",
      "memory usage: 5.1+ KB\n"
     ]
    }
   ],
   "source": [
    "df.info()"
   ]
  },
  {
   "cell_type": "code",
   "execution_count": 35,
   "id": "499d33bc-8d34-4369-96b3-d5cb8f4b279e",
   "metadata": {},
   "outputs": [
    {
     "data": {
      "text/html": [
       "<div>\n",
       "<style scoped>\n",
       "    .dataframe tbody tr th:only-of-type {\n",
       "        vertical-align: middle;\n",
       "    }\n",
       "\n",
       "    .dataframe tbody tr th {\n",
       "        vertical-align: top;\n",
       "    }\n",
       "\n",
       "    .dataframe thead th {\n",
       "        text-align: right;\n",
       "    }\n",
       "</style>\n",
       "<table border=\"1\" class=\"dataframe\">\n",
       "  <thead>\n",
       "    <tr style=\"text-align: right;\">\n",
       "      <th></th>\n",
       "      <th>Restaurant</th>\n",
       "      <th>Reviewer</th>\n",
       "      <th>Review</th>\n",
       "      <th>Rating</th>\n",
       "      <th>Metadata</th>\n",
       "      <th>Time</th>\n",
       "      <th>Pictures</th>\n",
       "    </tr>\n",
       "  </thead>\n",
       "  <tbody>\n",
       "    <tr>\n",
       "      <th>0</th>\n",
       "      <td>Beyond Flavours</td>\n",
       "      <td>Rusha Chakraborty</td>\n",
       "      <td>The ambience was good, food was quite good . h...</td>\n",
       "      <td>5</td>\n",
       "      <td>1 Review , 2 Followers</td>\n",
       "      <td>5/25/2019 15:54</td>\n",
       "      <td>0</td>\n",
       "    </tr>\n",
       "    <tr>\n",
       "      <th>1</th>\n",
       "      <td>Beyond Flavours</td>\n",
       "      <td>Anusha Tirumalaneedi</td>\n",
       "      <td>Ambience is too good for a pleasant evening. S...</td>\n",
       "      <td>5</td>\n",
       "      <td>3 Reviews , 2 Followers</td>\n",
       "      <td>5/25/2019 14:20</td>\n",
       "      <td>0</td>\n",
       "    </tr>\n",
       "    <tr>\n",
       "      <th>2</th>\n",
       "      <td>Beyond Flavours</td>\n",
       "      <td>Ashok Shekhawat</td>\n",
       "      <td>A must try.. great food great ambience. Thnx f...</td>\n",
       "      <td>5</td>\n",
       "      <td>2 Reviews , 3 Followers</td>\n",
       "      <td>5/24/2019 22:54</td>\n",
       "      <td>0</td>\n",
       "    </tr>\n",
       "    <tr>\n",
       "      <th>3</th>\n",
       "      <td>Beyond Flavours</td>\n",
       "      <td>Swapnil Sarkar</td>\n",
       "      <td>Soumen das and Arun was a great guy. Only beca...</td>\n",
       "      <td>5</td>\n",
       "      <td>1 Review , 1 Follower</td>\n",
       "      <td>5/24/2019 22:11</td>\n",
       "      <td>0</td>\n",
       "    </tr>\n",
       "    <tr>\n",
       "      <th>4</th>\n",
       "      <td>Beyond Flavours</td>\n",
       "      <td>Dileep</td>\n",
       "      <td>Food is good.we ordered Kodi drumsticks and ba...</td>\n",
       "      <td>5</td>\n",
       "      <td>3 Reviews , 2 Followers</td>\n",
       "      <td>5/24/2019 21:37</td>\n",
       "      <td>0</td>\n",
       "    </tr>\n",
       "  </tbody>\n",
       "</table>\n",
       "</div>"
      ],
      "text/plain": [
       "        Restaurant              Reviewer  \\\n",
       "0  Beyond Flavours     Rusha Chakraborty   \n",
       "1  Beyond Flavours  Anusha Tirumalaneedi   \n",
       "2  Beyond Flavours       Ashok Shekhawat   \n",
       "3  Beyond Flavours        Swapnil Sarkar   \n",
       "4  Beyond Flavours                Dileep   \n",
       "\n",
       "                                              Review Rating  \\\n",
       "0  The ambience was good, food was quite good . h...      5   \n",
       "1  Ambience is too good for a pleasant evening. S...      5   \n",
       "2  A must try.. great food great ambience. Thnx f...      5   \n",
       "3  Soumen das and Arun was a great guy. Only beca...      5   \n",
       "4  Food is good.we ordered Kodi drumsticks and ba...      5   \n",
       "\n",
       "                  Metadata             Time  Pictures  \n",
       "0   1 Review , 2 Followers  5/25/2019 15:54         0  \n",
       "1  3 Reviews , 2 Followers  5/25/2019 14:20         0  \n",
       "2  2 Reviews , 3 Followers  5/24/2019 22:54         0  \n",
       "3    1 Review , 1 Follower  5/24/2019 22:11         0  \n",
       "4  3 Reviews , 2 Followers  5/24/2019 21:37         0  "
      ]
     },
     "execution_count": 35,
     "metadata": {},
     "output_type": "execute_result"
    }
   ],
   "source": [
    "review_df.head()"
   ]
  },
  {
   "cell_type": "code",
   "execution_count": 36,
   "id": "0c48e635-fc73-4b6c-9235-617593015497",
   "metadata": {},
   "outputs": [],
   "source": [
    "#  Normalize column names"
   ]
  },
  {
   "cell_type": "code",
   "execution_count": 37,
   "id": "de42c488-5f9f-45dc-93ec-d794fb7bbc6b",
   "metadata": {},
   "outputs": [],
   "source": [
    "review_df.columns = review_df.columns.str.strip().str.lower().str.replace(\" \", \"_\")"
   ]
  },
  {
   "cell_type": "code",
   "execution_count": 38,
   "id": "feba9bd5-d4ab-461e-ac86-9048053890a0",
   "metadata": {},
   "outputs": [],
   "source": [
    "# Clean review text (lowercase, strip whitespace)"
   ]
  },
  {
   "cell_type": "code",
   "execution_count": 39,
   "id": "a53ded26-a5dc-4d25-8b34-a90289c43a30",
   "metadata": {},
   "outputs": [],
   "source": [
    "review_df['review'] = review_df['review'].str.lower().str.strip()"
   ]
  },
  {
   "cell_type": "code",
   "execution_count": 40,
   "id": "17f68e2d-afaf-48c1-a3a9-74fc5bb2421a",
   "metadata": {},
   "outputs": [],
   "source": [
    "# Convert 'rating' to numeric"
   ]
  },
  {
   "cell_type": "code",
   "execution_count": 41,
   "id": "0811b1ee-b486-4aa7-9b4c-d745ff204926",
   "metadata": {},
   "outputs": [],
   "source": [
    "review_df['rating'] = pd.to_numeric(review_df['rating'], errors='coerce')"
   ]
  },
  {
   "cell_type": "code",
   "execution_count": 42,
   "id": "0efbd3c7-e5a1-428a-85b8-3d440df2c0e5",
   "metadata": {},
   "outputs": [
    {
     "name": "stdout",
     "output_type": "stream",
     "text": [
      "<class 'pandas.core.frame.DataFrame'>\n",
      "Index: 9964 entries, 0 to 9999\n",
      "Data columns (total 7 columns):\n",
      " #   Column      Non-Null Count  Dtype  \n",
      "---  ------      --------------  -----  \n",
      " 0   restaurant  9964 non-null   object \n",
      " 1   reviewer    9962 non-null   object \n",
      " 2   review      9955 non-null   object \n",
      " 3   rating      9961 non-null   float64\n",
      " 4   metadata    9962 non-null   object \n",
      " 5   time        9962 non-null   object \n",
      " 6   pictures    9964 non-null   int64  \n",
      "dtypes: float64(1), int64(1), object(5)\n",
      "memory usage: 622.8+ KB\n"
     ]
    }
   ],
   "source": [
    "review_df.info()"
   ]
  },
  {
   "cell_type": "markdown",
   "id": "819e1be0-0e9a-4c9c-bf0d-d8602476fd4a",
   "metadata": {},
   "source": [
    "# Handling Missing Values"
   ]
  },
  {
   "cell_type": "code",
   "execution_count": 43,
   "id": "1a28aabb-d92a-4b2d-88a9-b14e029bf5b3",
   "metadata": {},
   "outputs": [],
   "source": [
    "review_df['reviewer'] = review_df['reviewer'].fillna('Anonymous')"
   ]
  },
  {
   "cell_type": "code",
   "execution_count": 44,
   "id": "42d438e6-3cb0-4049-a64d-803fa5fa8f23",
   "metadata": {},
   "outputs": [],
   "source": [
    "#  Fill missing metadata if present"
   ]
  },
  {
   "cell_type": "code",
   "execution_count": 45,
   "id": "41233377-da5c-45f3-9b9a-01306a80114d",
   "metadata": {},
   "outputs": [],
   "source": [
    "review_df['metadata'] = review_df['metadata'].fillna('No info')"
   ]
  },
  {
   "cell_type": "code",
   "execution_count": 46,
   "id": "223c7e21-02d8-49d4-8ed1-40712af4cee9",
   "metadata": {},
   "outputs": [],
   "source": [
    "#  Convert 'time' column to datetime, fill missing with a fixed timestamp"
   ]
  },
  {
   "cell_type": "code",
   "execution_count": 47,
   "id": "b1318c22-4635-435c-986f-b6e92d0d0e8b",
   "metadata": {},
   "outputs": [],
   "source": [
    "review_df['time'] = pd.to_datetime(review_df['time'], errors='coerce')\n",
    "review_df['time'] = review_df['time'].fillna(pd.Timestamp('2000-01-01'))"
   ]
  },
  {
   "cell_type": "code",
   "execution_count": 48,
   "id": "b2e3ef45-2d50-426b-9275-7ae692a0390b",
   "metadata": {},
   "outputs": [
    {
     "name": "stdout",
     "output_type": "stream",
     "text": [
      "<class 'pandas.core.frame.DataFrame'>\n",
      "Index: 9964 entries, 0 to 9999\n",
      "Data columns (total 7 columns):\n",
      " #   Column      Non-Null Count  Dtype         \n",
      "---  ------      --------------  -----         \n",
      " 0   restaurant  9964 non-null   object        \n",
      " 1   reviewer    9964 non-null   object        \n",
      " 2   review      9955 non-null   object        \n",
      " 3   rating      9961 non-null   float64       \n",
      " 4   metadata    9964 non-null   object        \n",
      " 5   time        9964 non-null   datetime64[ns]\n",
      " 6   pictures    9964 non-null   int64         \n",
      "dtypes: datetime64[ns](1), float64(1), int64(1), object(4)\n",
      "memory usage: 622.8+ KB\n"
     ]
    }
   ],
   "source": [
    "review_df.info()"
   ]
  },
  {
   "cell_type": "code",
   "execution_count": 49,
   "id": "e339cea4-c289-4ef2-b3d7-693c0287c9e9",
   "metadata": {},
   "outputs": [],
   "source": [
    "review_df['rating'] = review_df['rating'].fillna(review_df['rating'].median())"
   ]
  },
  {
   "cell_type": "code",
   "execution_count": 50,
   "id": "53679bff-7915-4b44-bddf-310ddc99ca5a",
   "metadata": {},
   "outputs": [],
   "source": [
    "review_df['review'] = review_df['review'].fillna('Not listed')"
   ]
  },
  {
   "cell_type": "code",
   "execution_count": 51,
   "id": "59a182af-8e4a-4afe-9e4b-87f497f8b250",
   "metadata": {},
   "outputs": [
    {
     "name": "stdout",
     "output_type": "stream",
     "text": [
      "<class 'pandas.core.frame.DataFrame'>\n",
      "Index: 9964 entries, 0 to 9999\n",
      "Data columns (total 7 columns):\n",
      " #   Column      Non-Null Count  Dtype         \n",
      "---  ------      --------------  -----         \n",
      " 0   restaurant  9964 non-null   object        \n",
      " 1   reviewer    9964 non-null   object        \n",
      " 2   review      9964 non-null   object        \n",
      " 3   rating      9964 non-null   float64       \n",
      " 4   metadata    9964 non-null   object        \n",
      " 5   time        9964 non-null   datetime64[ns]\n",
      " 6   pictures    9964 non-null   int64         \n",
      "dtypes: datetime64[ns](1), float64(1), int64(1), object(4)\n",
      "memory usage: 622.8+ KB\n"
     ]
    }
   ],
   "source": [
    "review_df.info()"
   ]
  },
  {
   "cell_type": "markdown",
   "id": "bec57a19-a450-4c1e-90d2-15030999e98f",
   "metadata": {},
   "source": [
    "# **Step 3A: Univariate Analysis**\n",
    "\n",
    "##  **Goal:**  \n",
    "**Understand the distribution of individual columns to identify patterns, trends, and potential outliers.**\n",
    "\n",
    "---\n",
    "\n",
    "## **Charts to Plot (Univariate):**\n",
    "\n",
    "### 🔹 **Top Cuisines**\n",
    "\n",
    "### 🔹 **Restaurant Cost Distribution**\n",
    "\n",
    "### 🔹 **Ratings Distribution**\n",
    "\n",
    "### 🔹 **Restaurant Types** *(if available)*\n",
    "\n",
    "### 🔹 **Timings** *(open/close patterns)*\n"
   ]
  },
  {
   "cell_type": "code",
   "execution_count": 53,
   "id": "6975c897-025d-499d-8722-373bf9c710a4",
   "metadata": {},
   "outputs": [],
   "source": [
    "#  1. Top Cuisines"
   ]
  },
  {
   "cell_type": "code",
   "execution_count": 54,
   "id": "9bbdf957-0d5a-41e6-a99c-f043045b43fb",
   "metadata": {},
   "outputs": [
    {
     "name": "stderr",
     "output_type": "stream",
     "text": [
      "C:\\Users\\HP\\AppData\\Local\\Temp\\ipykernel_12932\\1745902712.py:7: FutureWarning: \n",
      "\n",
      "Passing `palette` without assigning `hue` is deprecated and will be removed in v0.14.0. Assign the `y` variable to `hue` and set `legend=False` for the same effect.\n",
      "\n",
      "  sns.barplot(x=top_cuisines.values, y=top_cuisines.index, palette=\"viridis\")\n"
     ]
    },
    {
     "data": {
      "image/png": "[encoded data removed]",
      "text/plain": [
       "<Figure size 1000x600 with 1 Axes>"
      ]
     },
     "metadata": {},
     "output_type": "display_data"
    }
   ],
   "source": [
    "import seaborn as sns\n",
    "import matplotlib.pyplot as plt\n",
    "\n",
    "top_cuisines = df['cuisines'].value_counts().head(10)\n",
    "\n",
    "plt.figure(figsize=(10, 6))\n",
    "sns.barplot(x=top_cuisines.values, y=top_cuisines.index, palette=\"viridis\")\n",
    "plt.title(\"Top 10 Most Common Cuisines on Zomato\")\n",
    "plt.xlabel(\"Number of Restaurants\")\n",
    "plt.ylabel(\"Cuisine\")\n",
    "plt.show()\n"
   ]
  },
  {
   "cell_type": "code",
   "execution_count": 55,
   "id": "43254fbe-2c47-4306-abea-2e6db9a9b8bd",
   "metadata": {},
   "outputs": [],
   "source": [
    "# Insights:\n",
    "#North Indian, Chinese, and Fast Food dominate the platform, showing a trend toward local and quick options."
   ]
  },
  {
   "cell_type": "code",
   "execution_count": 56,
   "id": "056c0294-46ae-48d7-a38d-fced5f177cf1",
   "metadata": {},
   "outputs": [],
   "source": [
    "# 2. Cost Distribution"
   ]
  },
  {
   "cell_type": "code",
   "execution_count": 57,
   "id": "4691e5a0-b4db-4ef3-861a-1c1cfde93a59",
   "metadata": {},
   "outputs": [
    {
     "data": {
      "image/png": "[encoded data removed]",
      "text/plain": [
       "<Figure size 800x500 with 1 Axes>"
      ]
     },
     "metadata": {},
     "output_type": "display_data"
    }
   ],
   "source": [
    "plt.figure(figsize=(8, 5))\n",
    "sns.histplot(df['cost'], kde=True, bins=30, color='orange')\n",
    "plt.title(\"Distribution of Restaurant Cost for Two\")\n",
    "plt.xlabel(\"Cost\")\n",
    "plt.ylabel(\"Number of Restaurants\")\n",
    "plt.show()\n"
   ]
  },
  {
   "cell_type": "code",
   "execution_count": 58,
   "id": "27614ae8-a08f-4c9b-ad64-45b65f47ba29",
   "metadata": {},
   "outputs": [],
   "source": [
    "# Insights:\n",
    "#Most restaurants fall in the ₹200–₹600 range, indicating a budget-friendly market."
   ]
  },
  {
   "cell_type": "code",
   "execution_count": 59,
   "id": "af33848e-cc9e-438a-bbe4-96ff3e70de12",
   "metadata": {},
   "outputs": [],
   "source": [
    "# Ratings Distribution"
   ]
  },
  {
   "cell_type": "code",
   "execution_count": 60,
   "id": "eb6b21a6-781f-4e08-ad7a-a7da7772c45f",
   "metadata": {},
   "outputs": [
    {
     "data": {
      "image/png": "[encoded data removed]",
      "text/plain": [
       "<Figure size 800x500 with 1 Axes>"
      ]
     },
     "metadata": {},
     "output_type": "display_data"
    }
   ],
   "source": [
    "plt.figure(figsize=(8, 5))\n",
    "sns.histplot(review_df['rating'], bins=20, kde=True, color='green')\n",
    "plt.title(\"Distribution of Restaurant Ratings\")\n",
    "plt.xlabel(\"Rating\")\n",
    "plt.ylabel(\"Number of Restaurants\")\n",
    "plt.show()\n"
   ]
  },
  {
   "cell_type": "code",
   "execution_count": 61,
   "id": "f3786a48-616b-4e94-b350-f32dc3a19733",
   "metadata": {},
   "outputs": [],
   "source": [
    "# Insights:\n",
    "# Majority of restaurants are rated between 3.5 and 4.5."
   ]
  },
  {
   "cell_type": "markdown",
   "id": "5ac06c43-ea06-49cf-adca-383183fe1efc",
   "metadata": {},
   "source": [
    "# Step 3B: Bivariate Analysis\n",
    "\n",
    "## Goal:\n",
    "Analyze the relationship between two variables — helps answer business questions like:\n",
    "\n",
    "- **Do high-cost restaurants get higher ratings?**\n",
    "- **Does cuisine type affect rating?**\n",
    "- **Which locations have the best value?**\n"
   ]
  },
  {
   "cell_type": "code",
   "execution_count": 63,
   "id": "0450b430-a5ca-450c-ba8b-00b69fd91b27",
   "metadata": {},
   "outputs": [],
   "source": [
    "merged_df = pd.merge(review_df, df, how='inner', left_on='restaurant', right_on='name')\n"
   ]
  },
  {
   "cell_type": "code",
   "execution_count": 108,
   "id": "f091cfc9-91e4-4a58-ac45-d8f6f07550bd",
   "metadata": {},
   "outputs": [],
   "source": [
    "# Outlier handling for 'cost'\n",
    "Q1 = merged_df['cost'].quantile(0.25)\n",
    "Q3 = merged_df['cost'].quantile(0.75)\n",
    "IQR = Q3 - Q1\n",
    "\n",
    "lower = Q1 - 1.5 * IQR\n",
    "upper = Q3 + 1.5 * IQR\n",
    "\n",
    "# Option 1: Remove outliers\n",
    "merged_df = merged_df[(merged_df['cost'] >= lower) & (merged_df['cost'] <= upper)]\n",
    "\n",
    "# Option 2: Cap extreme values (if you prefer keeping data)\n",
    "# merged_df['cost'] = np.where(merged_df['cost'] > upper, upper, merged_df['cost'])\n"
   ]
  },
  {
   "cell_type": "code",
   "execution_count": 109,
   "id": "4e7efcc9-54aa-425b-9ae9-9deda62444d3",
   "metadata": {},
   "outputs": [
    {
     "data": {
      "text/html": [
       "<div>\n",
       "<style scoped>\n",
       "    .dataframe tbody tr th:only-of-type {\n",
       "        vertical-align: middle;\n",
       "    }\n",
       "\n",
       "    .dataframe tbody tr th {\n",
       "        vertical-align: top;\n",
       "    }\n",
       "\n",
       "    .dataframe thead th {\n",
       "        text-align: right;\n",
       "    }\n",
       "</style>\n",
       "<table border=\"1\" class=\"dataframe\">\n",
       "  <thead>\n",
       "    <tr style=\"text-align: right;\">\n",
       "      <th></th>\n",
       "      <th>restaurant</th>\n",
       "      <th>reviewer</th>\n",
       "      <th>review</th>\n",
       "      <th>rating</th>\n",
       "      <th>metadata</th>\n",
       "      <th>time</th>\n",
       "      <th>pictures</th>\n",
       "      <th>name</th>\n",
       "      <th>links</th>\n",
       "      <th>cost</th>\n",
       "      <th>collections</th>\n",
       "      <th>cuisines</th>\n",
       "      <th>timings</th>\n",
       "      <th>cleaned_reviews</th>\n",
       "      <th>Sentiment</th>\n",
       "      <th>cuisines_list</th>\n",
       "    </tr>\n",
       "  </thead>\n",
       "  <tbody>\n",
       "    <tr>\n",
       "      <th>0</th>\n",
       "      <td>Beyond Flavours</td>\n",
       "      <td>Rusha Chakraborty</td>\n",
       "      <td>the ambience was good, food was quite good . h...</td>\n",
       "      <td>5.0</td>\n",
       "      <td>1 Review , 2 Followers</td>\n",
       "      <td>2019-05-25 15:54:00</td>\n",
       "      <td>0</td>\n",
       "      <td>Beyond Flavours</td>\n",
       "      <td>https://www.zomato.com/hyderabad/beyond-flavou...</td>\n",
       "      <td>800</td>\n",
       "      <td>Food Hygiene Rated Restaurants in Hyderabad, C...</td>\n",
       "      <td>Chinese, Continental, Kebab, European, South I...</td>\n",
       "      <td>12noon to 3:30pm, 6:30pm to 11:30pm (Mon-Sun)</td>\n",
       "      <td>ambienc good food quit good saturday lunch cos...</td>\n",
       "      <td>positive</td>\n",
       "      <td>[Chinese, Continental, Kebab, European, South ...</td>\n",
       "    </tr>\n",
       "    <tr>\n",
       "      <th>1</th>\n",
       "      <td>Beyond Flavours</td>\n",
       "      <td>Anusha Tirumalaneedi</td>\n",
       "      <td>ambience is too good for a pleasant evening. s...</td>\n",
       "      <td>5.0</td>\n",
       "      <td>3 Reviews , 2 Followers</td>\n",
       "      <td>2019-05-25 14:20:00</td>\n",
       "      <td>0</td>\n",
       "      <td>Beyond Flavours</td>\n",
       "      <td>https://www.zomato.com/hyderabad/beyond-flavou...</td>\n",
       "      <td>800</td>\n",
       "      <td>Food Hygiene Rated Restaurants in Hyderabad, C...</td>\n",
       "      <td>Chinese, Continental, Kebab, European, South I...</td>\n",
       "      <td>12noon to 3:30pm, 6:30pm to 11:30pm (Mon-Sun)</td>\n",
       "      <td>ambienc good food quit good saturday lunch cos...</td>\n",
       "      <td>positive</td>\n",
       "      <td>[Chinese, Continental, Kebab, European, South ...</td>\n",
       "    </tr>\n",
       "    <tr>\n",
       "      <th>2</th>\n",
       "      <td>Beyond Flavours</td>\n",
       "      <td>Ashok Shekhawat</td>\n",
       "      <td>a must try.. great food great ambience. thnx f...</td>\n",
       "      <td>5.0</td>\n",
       "      <td>2 Reviews , 3 Followers</td>\n",
       "      <td>2019-05-24 22:54:00</td>\n",
       "      <td>0</td>\n",
       "      <td>Beyond Flavours</td>\n",
       "      <td>https://www.zomato.com/hyderabad/beyond-flavou...</td>\n",
       "      <td>800</td>\n",
       "      <td>Food Hygiene Rated Restaurants in Hyderabad, C...</td>\n",
       "      <td>Chinese, Continental, Kebab, European, South I...</td>\n",
       "      <td>12noon to 3:30pm, 6:30pm to 11:30pm (Mon-Sun)</td>\n",
       "      <td>ambienc good food quit good saturday lunch cos...</td>\n",
       "      <td>positive</td>\n",
       "      <td>[Chinese, Continental, Kebab, European, South ...</td>\n",
       "    </tr>\n",
       "    <tr>\n",
       "      <th>3</th>\n",
       "      <td>Beyond Flavours</td>\n",
       "      <td>Swapnil Sarkar</td>\n",
       "      <td>soumen das and arun was a great guy. only beca...</td>\n",
       "      <td>5.0</td>\n",
       "      <td>1 Review , 1 Follower</td>\n",
       "      <td>2019-05-24 22:11:00</td>\n",
       "      <td>0</td>\n",
       "      <td>Beyond Flavours</td>\n",
       "      <td>https://www.zomato.com/hyderabad/beyond-flavou...</td>\n",
       "      <td>800</td>\n",
       "      <td>Food Hygiene Rated Restaurants in Hyderabad, C...</td>\n",
       "      <td>Chinese, Continental, Kebab, European, South I...</td>\n",
       "      <td>12noon to 3:30pm, 6:30pm to 11:30pm (Mon-Sun)</td>\n",
       "      <td>ambienc good food quit good saturday lunch cos...</td>\n",
       "      <td>positive</td>\n",
       "      <td>[Chinese, Continental, Kebab, European, South ...</td>\n",
       "    </tr>\n",
       "    <tr>\n",
       "      <th>4</th>\n",
       "      <td>Beyond Flavours</td>\n",
       "      <td>Dileep</td>\n",
       "      <td>food is good.we ordered kodi drumsticks and ba...</td>\n",
       "      <td>5.0</td>\n",
       "      <td>3 Reviews , 2 Followers</td>\n",
       "      <td>2019-05-24 21:37:00</td>\n",
       "      <td>0</td>\n",
       "      <td>Beyond Flavours</td>\n",
       "      <td>https://www.zomato.com/hyderabad/beyond-flavou...</td>\n",
       "      <td>800</td>\n",
       "      <td>Food Hygiene Rated Restaurants in Hyderabad, C...</td>\n",
       "      <td>Chinese, Continental, Kebab, European, South I...</td>\n",
       "      <td>12noon to 3:30pm, 6:30pm to 11:30pm (Mon-Sun)</td>\n",
       "      <td>ambienc good food quit good saturday lunch cos...</td>\n",
       "      <td>positive</td>\n",
       "      <td>[Chinese, Continental, Kebab, European, South ...</td>\n",
       "    </tr>\n",
       "    <tr>\n",
       "      <th>...</th>\n",
       "      <td>...</td>\n",
       "      <td>...</td>\n",
       "      <td>...</td>\n",
       "      <td>...</td>\n",
       "      <td>...</td>\n",
       "      <td>...</td>\n",
       "      <td>...</td>\n",
       "      <td>...</td>\n",
       "      <td>...</td>\n",
       "      <td>...</td>\n",
       "      <td>...</td>\n",
       "      <td>...</td>\n",
       "      <td>...</td>\n",
       "      <td>...</td>\n",
       "      <td>...</td>\n",
       "      <td>...</td>\n",
       "    </tr>\n",
       "    <tr>\n",
       "      <th>9959</th>\n",
       "      <td>Chinese Pavilion</td>\n",
       "      <td>Abhishek Mahajan</td>\n",
       "      <td>madhumathi mahajan well to start with nice cou...</td>\n",
       "      <td>3.0</td>\n",
       "      <td>53 Reviews , 54 Followers</td>\n",
       "      <td>2016-06-05 00:08:00</td>\n",
       "      <td>0</td>\n",
       "      <td>Chinese Pavilion</td>\n",
       "      <td>https://www.zomato.com/hyderabad/chinese-pavil...</td>\n",
       "      <td>1000</td>\n",
       "      <td>Not listed</td>\n",
       "      <td>Chinese, Seafood</td>\n",
       "      <td>12 Noon to 3:30 PM, 7 PM to 11 PM</td>\n",
       "      <td>ahm serv us polit cooper staffamaz food ambien...</td>\n",
       "      <td>positive</td>\n",
       "      <td>[Chinese, Seafood]</td>\n",
       "    </tr>\n",
       "    <tr>\n",
       "      <th>9960</th>\n",
       "      <td>Chinese Pavilion</td>\n",
       "      <td>Sharad Agrawal</td>\n",
       "      <td>this place has never disappointed us.. the foo...</td>\n",
       "      <td>4.5</td>\n",
       "      <td>2 Reviews , 53 Followers</td>\n",
       "      <td>2016-06-04 22:01:00</td>\n",
       "      <td>0</td>\n",
       "      <td>Chinese Pavilion</td>\n",
       "      <td>https://www.zomato.com/hyderabad/chinese-pavil...</td>\n",
       "      <td>1000</td>\n",
       "      <td>Not listed</td>\n",
       "      <td>Chinese, Seafood</td>\n",
       "      <td>12 Noon to 3:30 PM, 7 PM to 11 PM</td>\n",
       "      <td>ahm serv us polit cooper staffamaz food ambien...</td>\n",
       "      <td>positive</td>\n",
       "      <td>[Chinese, Seafood]</td>\n",
       "    </tr>\n",
       "    <tr>\n",
       "      <th>9961</th>\n",
       "      <td>Chinese Pavilion</td>\n",
       "      <td>Ramandeep</td>\n",
       "      <td>bad rating is mainly because of \"chicken bone ...</td>\n",
       "      <td>1.5</td>\n",
       "      <td>65 Reviews , 423 Followers</td>\n",
       "      <td>2016-06-03 10:37:00</td>\n",
       "      <td>3</td>\n",
       "      <td>Chinese Pavilion</td>\n",
       "      <td>https://www.zomato.com/hyderabad/chinese-pavil...</td>\n",
       "      <td>1000</td>\n",
       "      <td>Not listed</td>\n",
       "      <td>Chinese, Seafood</td>\n",
       "      <td>12 Noon to 3:30 PM, 7 PM to 11 PM</td>\n",
       "      <td>ahm serv us polit cooper staffamaz food ambien...</td>\n",
       "      <td>positive</td>\n",
       "      <td>[Chinese, Seafood]</td>\n",
       "    </tr>\n",
       "    <tr>\n",
       "      <th>9962</th>\n",
       "      <td>Chinese Pavilion</td>\n",
       "      <td>Nayana Shanbhag</td>\n",
       "      <td>i personally love and prefer chinese food. had...</td>\n",
       "      <td>4.0</td>\n",
       "      <td>13 Reviews , 144 Followers</td>\n",
       "      <td>2016-05-31 17:22:00</td>\n",
       "      <td>0</td>\n",
       "      <td>Chinese Pavilion</td>\n",
       "      <td>https://www.zomato.com/hyderabad/chinese-pavil...</td>\n",
       "      <td>1000</td>\n",
       "      <td>Not listed</td>\n",
       "      <td>Chinese, Seafood</td>\n",
       "      <td>12 Noon to 3:30 PM, 7 PM to 11 PM</td>\n",
       "      <td>ahm serv us polit cooper staffamaz food ambien...</td>\n",
       "      <td>positive</td>\n",
       "      <td>[Chinese, Seafood]</td>\n",
       "    </tr>\n",
       "    <tr>\n",
       "      <th>9963</th>\n",
       "      <td>Chinese Pavilion</td>\n",
       "      <td>Bhargava Krishna</td>\n",
       "      <td>checked in here to try some delicious chinese ...</td>\n",
       "      <td>3.5</td>\n",
       "      <td>472 Reviews , 1302 Followers</td>\n",
       "      <td>2016-05-31 16:41:00</td>\n",
       "      <td>6</td>\n",
       "      <td>Chinese Pavilion</td>\n",
       "      <td>https://www.zomato.com/hyderabad/chinese-pavil...</td>\n",
       "      <td>1000</td>\n",
       "      <td>Not listed</td>\n",
       "      <td>Chinese, Seafood</td>\n",
       "      <td>12 Noon to 3:30 PM, 7 PM to 11 PM</td>\n",
       "      <td>ahm serv us polit cooper staffamaz food ambien...</td>\n",
       "      <td>positive</td>\n",
       "      <td>[Chinese, Seafood]</td>\n",
       "    </tr>\n",
       "  </tbody>\n",
       "</table>\n",
       "<p>9764 rows × 16 columns</p>\n",
       "</div>"
      ],
      "text/plain": [
       "            restaurant              reviewer  \\\n",
       "0      Beyond Flavours     Rusha Chakraborty   \n",
       "1      Beyond Flavours  Anusha Tirumalaneedi   \n",
       "2      Beyond Flavours       Ashok Shekhawat   \n",
       "3      Beyond Flavours        Swapnil Sarkar   \n",
       "4      Beyond Flavours                Dileep   \n",
       "...                ...                   ...   \n",
       "9959  Chinese Pavilion      Abhishek Mahajan   \n",
       "9960  Chinese Pavilion        Sharad Agrawal   \n",
       "9961  Chinese Pavilion             Ramandeep   \n",
       "9962  Chinese Pavilion       Nayana Shanbhag   \n",
       "9963  Chinese Pavilion      Bhargava Krishna   \n",
       "\n",
       "                                                 review  rating  \\\n",
       "0     the ambience was good, food was quite good . h...     5.0   \n",
       "1     ambience is too good for a pleasant evening. s...     5.0   \n",
       "2     a must try.. great food great ambience. thnx f...     5.0   \n",
       "3     soumen das and arun was a great guy. only beca...     5.0   \n",
       "4     food is good.we ordered kodi drumsticks and ba...     5.0   \n",
       "...                                                 ...     ...   \n",
       "9959  madhumathi mahajan well to start with nice cou...     3.0   \n",
       "9960  this place has never disappointed us.. the foo...     4.5   \n",
       "9961  bad rating is mainly because of \"chicken bone ...     1.5   \n",
       "9962  i personally love and prefer chinese food. had...     4.0   \n",
       "9963  checked in here to try some delicious chinese ...     3.5   \n",
       "\n",
       "                          metadata                time  pictures  \\\n",
       "0           1 Review , 2 Followers 2019-05-25 15:54:00         0   \n",
       "1          3 Reviews , 2 Followers 2019-05-25 14:20:00         0   \n",
       "2          2 Reviews , 3 Followers 2019-05-24 22:54:00         0   \n",
       "3            1 Review , 1 Follower 2019-05-24 22:11:00         0   \n",
       "4          3 Reviews , 2 Followers 2019-05-24 21:37:00         0   \n",
       "...                            ...                 ...       ...   \n",
       "9959     53 Reviews , 54 Followers 2016-06-05 00:08:00         0   \n",
       "9960      2 Reviews , 53 Followers 2016-06-04 22:01:00         0   \n",
       "9961    65 Reviews , 423 Followers 2016-06-03 10:37:00         3   \n",
       "9962    13 Reviews , 144 Followers 2016-05-31 17:22:00         0   \n",
       "9963  472 Reviews , 1302 Followers 2016-05-31 16:41:00         6   \n",
       "\n",
       "                  name                                              links  \\\n",
       "0      Beyond Flavours  https://www.zomato.com/hyderabad/beyond-flavou...   \n",
       "1      Beyond Flavours  https://www.zomato.com/hyderabad/beyond-flavou...   \n",
       "2      Beyond Flavours  https://www.zomato.com/hyderabad/beyond-flavou...   \n",
       "3      Beyond Flavours  https://www.zomato.com/hyderabad/beyond-flavou...   \n",
       "4      Beyond Flavours  https://www.zomato.com/hyderabad/beyond-flavou...   \n",
       "...                ...                                                ...   \n",
       "9959  Chinese Pavilion  https://www.zomato.com/hyderabad/chinese-pavil...   \n",
       "9960  Chinese Pavilion  https://www.zomato.com/hyderabad/chinese-pavil...   \n",
       "9961  Chinese Pavilion  https://www.zomato.com/hyderabad/chinese-pavil...   \n",
       "9962  Chinese Pavilion  https://www.zomato.com/hyderabad/chinese-pavil...   \n",
       "9963  Chinese Pavilion  https://www.zomato.com/hyderabad/chinese-pavil...   \n",
       "\n",
       "      cost                                        collections  \\\n",
       "0      800  Food Hygiene Rated Restaurants in Hyderabad, C...   \n",
       "1      800  Food Hygiene Rated Restaurants in Hyderabad, C...   \n",
       "2      800  Food Hygiene Rated Restaurants in Hyderabad, C...   \n",
       "3      800  Food Hygiene Rated Restaurants in Hyderabad, C...   \n",
       "4      800  Food Hygiene Rated Restaurants in Hyderabad, C...   \n",
       "...    ...                                                ...   \n",
       "9959  1000                                         Not listed   \n",
       "9960  1000                                         Not listed   \n",
       "9961  1000                                         Not listed   \n",
       "9962  1000                                         Not listed   \n",
       "9963  1000                                         Not listed   \n",
       "\n",
       "                                               cuisines  \\\n",
       "0     Chinese, Continental, Kebab, European, South I...   \n",
       "1     Chinese, Continental, Kebab, European, South I...   \n",
       "2     Chinese, Continental, Kebab, European, South I...   \n",
       "3     Chinese, Continental, Kebab, European, South I...   \n",
       "4     Chinese, Continental, Kebab, European, South I...   \n",
       "...                                                 ...   \n",
       "9959                                   Chinese, Seafood   \n",
       "9960                                   Chinese, Seafood   \n",
       "9961                                   Chinese, Seafood   \n",
       "9962                                   Chinese, Seafood   \n",
       "9963                                   Chinese, Seafood   \n",
       "\n",
       "                                            timings  \\\n",
       "0     12noon to 3:30pm, 6:30pm to 11:30pm (Mon-Sun)   \n",
       "1     12noon to 3:30pm, 6:30pm to 11:30pm (Mon-Sun)   \n",
       "2     12noon to 3:30pm, 6:30pm to 11:30pm (Mon-Sun)   \n",
       "3     12noon to 3:30pm, 6:30pm to 11:30pm (Mon-Sun)   \n",
       "4     12noon to 3:30pm, 6:30pm to 11:30pm (Mon-Sun)   \n",
       "...                                             ...   \n",
       "9959              12 Noon to 3:30 PM, 7 PM to 11 PM   \n",
       "9960              12 Noon to 3:30 PM, 7 PM to 11 PM   \n",
       "9961              12 Noon to 3:30 PM, 7 PM to 11 PM   \n",
       "9962              12 Noon to 3:30 PM, 7 PM to 11 PM   \n",
       "9963              12 Noon to 3:30 PM, 7 PM to 11 PM   \n",
       "\n",
       "                                        cleaned_reviews Sentiment  \\\n",
       "0     ambienc good food quit good saturday lunch cos...  positive   \n",
       "1     ambienc good food quit good saturday lunch cos...  positive   \n",
       "2     ambienc good food quit good saturday lunch cos...  positive   \n",
       "3     ambienc good food quit good saturday lunch cos...  positive   \n",
       "4     ambienc good food quit good saturday lunch cos...  positive   \n",
       "...                                                 ...       ...   \n",
       "9959  ahm serv us polit cooper staffamaz food ambien...  positive   \n",
       "9960  ahm serv us polit cooper staffamaz food ambien...  positive   \n",
       "9961  ahm serv us polit cooper staffamaz food ambien...  positive   \n",
       "9962  ahm serv us polit cooper staffamaz food ambien...  positive   \n",
       "9963  ahm serv us polit cooper staffamaz food ambien...  positive   \n",
       "\n",
       "                                          cuisines_list  \n",
       "0     [Chinese, Continental, Kebab, European, South ...  \n",
       "1     [Chinese, Continental, Kebab, European, South ...  \n",
       "2     [Chinese, Continental, Kebab, European, South ...  \n",
       "3     [Chinese, Continental, Kebab, European, South ...  \n",
       "4     [Chinese, Continental, Kebab, European, South ...  \n",
       "...                                                 ...  \n",
       "9959                                 [Chinese, Seafood]  \n",
       "9960                                 [Chinese, Seafood]  \n",
       "9961                                 [Chinese, Seafood]  \n",
       "9962                                 [Chinese, Seafood]  \n",
       "9963                                 [Chinese, Seafood]  \n",
       "\n",
       "[9764 rows x 16 columns]"
      ]
     },
     "execution_count": 109,
     "metadata": {},
     "output_type": "execute_result"
    }
   ],
   "source": [
    "merged_df"
   ]
  },
  {
   "cell_type": "code",
   "execution_count": 110,
   "id": "c2c86e6f-7922-478d-9c14-478ca16dbbe7",
   "metadata": {},
   "outputs": [
    {
     "data": {
      "image/png": "[encoded data removed]",
      "text/plain": [
       "<Figure size 800x400 with 1 Axes>"
      ]
     },
     "metadata": {},
     "output_type": "display_data"
    }
   ],
   "source": [
    "import seaborn as sns\n",
    "import matplotlib.pyplot as plt\n",
    "\n",
    "plt.figure(figsize=(8, 4))\n",
    "sns.boxplot(x=merged_df['cost'])\n",
    "plt.title(\"Cost Distribution with Outliers\")\n",
    "plt.show()\n"
   ]
  },
  {
   "cell_type": "markdown",
   "id": "d1732cc0-4152-4693-aed5-c66fd15e779a",
   "metadata": {},
   "source": [
    "# Categorical Encoding"
   ]
  },
  {
   "cell_type": "code",
   "execution_count": 111,
   "id": "4c3904cf-22f3-4476-95db-919c4d6a5824",
   "metadata": {},
   "outputs": [
    {
     "data": {
      "text/plain": [
       "0       Chinese, Continental, Kebab, European, South I...\n",
       "1       Chinese, Continental, Kebab, European, South I...\n",
       "2       Chinese, Continental, Kebab, European, South I...\n",
       "3       Chinese, Continental, Kebab, European, South I...\n",
       "4       Chinese, Continental, Kebab, European, South I...\n",
       "                              ...                        \n",
       "9959                                     Chinese, Seafood\n",
       "9960                                     Chinese, Seafood\n",
       "9961                                     Chinese, Seafood\n",
       "9962                                     Chinese, Seafood\n",
       "9963                                     Chinese, Seafood\n",
       "Name: cuisines, Length: 9964, dtype: object"
      ]
     },
     "execution_count": 111,
     "metadata": {},
     "output_type": "execute_result"
    }
   ],
   "source": [
    "df['cuisines']"
   ]
  },
  {
   "cell_type": "code",
   "execution_count": 112,
   "id": "2ed30805-31e7-40a9-9ada-f408e6586412",
   "metadata": {},
   "outputs": [],
   "source": [
    "merged_df['cuisines_list'] = merged_df['cuisines'].str.split(', ')"
   ]
  },
  {
   "cell_type": "code",
   "execution_count": 113,
   "id": "1547c10f-7047-48be-8159-bdb608156b42",
   "metadata": {},
   "outputs": [
    {
     "data": {
      "text/plain": [
       "0       [Chinese, Continental, Kebab, European, South ...\n",
       "1       [Chinese, Continental, Kebab, European, South ...\n",
       "2       [Chinese, Continental, Kebab, European, South ...\n",
       "3       [Chinese, Continental, Kebab, European, South ...\n",
       "4       [Chinese, Continental, Kebab, European, South ...\n",
       "                              ...                        \n",
       "9959                                   [Chinese, Seafood]\n",
       "9960                                   [Chinese, Seafood]\n",
       "9961                                   [Chinese, Seafood]\n",
       "9962                                   [Chinese, Seafood]\n",
       "9963                                   [Chinese, Seafood]\n",
       "Name: cuisines_list, Length: 9764, dtype: object"
      ]
     },
     "execution_count": 113,
     "metadata": {},
     "output_type": "execute_result"
    }
   ],
   "source": [
    "merged_df['cuisines_list'] "
   ]
  },
  {
   "cell_type": "code",
   "execution_count": 114,
   "id": "09824704-4640-46ef-877c-45da2983f8fc",
   "metadata": {},
   "outputs": [],
   "source": [
    "from sklearn.preprocessing import MultiLabelBinarizer\n",
    "\n",
    "mlb = MultiLabelBinarizer()\n",
    "cuisine_encoded = pd.DataFrame(mlb.fit_transform(merged_df['cuisines_list']),\n",
    "                               columns=mlb.classes_,\n",
    "                               index=merged_df.index)\n",
    "\n",
    "# Add encoded columns to your original data\n",
    "df = pd.concat([merged_df, cuisine_encoded], axis=1)\n"
   ]
  },
  {
   "cell_type": "code",
   "execution_count": 115,
   "id": "ac34a371-0fb2-4486-98a4-fcccc6649122",
   "metadata": {},
   "outputs": [
    {
     "data": {
      "text/html": [
       "<div>\n",
       "<style scoped>\n",
       "    .dataframe tbody tr th:only-of-type {\n",
       "        vertical-align: middle;\n",
       "    }\n",
       "\n",
       "    .dataframe tbody tr th {\n",
       "        vertical-align: top;\n",
       "    }\n",
       "\n",
       "    .dataframe thead th {\n",
       "        text-align: right;\n",
       "    }\n",
       "</style>\n",
       "<table border=\"1\" class=\"dataframe\">\n",
       "  <thead>\n",
       "    <tr style=\"text-align: right;\">\n",
       "      <th></th>\n",
       "      <th>restaurant</th>\n",
       "      <th>reviewer</th>\n",
       "      <th>review</th>\n",
       "      <th>rating</th>\n",
       "      <th>metadata</th>\n",
       "      <th>time</th>\n",
       "      <th>pictures</th>\n",
       "      <th>name</th>\n",
       "      <th>links</th>\n",
       "      <th>cost</th>\n",
       "      <th>...</th>\n",
       "      <th>North Indian</th>\n",
       "      <th>Pizza</th>\n",
       "      <th>Salad</th>\n",
       "      <th>Seafood</th>\n",
       "      <th>South Indian</th>\n",
       "      <th>Spanish</th>\n",
       "      <th>Street Food</th>\n",
       "      <th>Sushi</th>\n",
       "      <th>Thai</th>\n",
       "      <th>Wraps</th>\n",
       "    </tr>\n",
       "  </thead>\n",
       "  <tbody>\n",
       "    <tr>\n",
       "      <th>0</th>\n",
       "      <td>Beyond Flavours</td>\n",
       "      <td>Rusha Chakraborty</td>\n",
       "      <td>the ambience was good, food was quite good . h...</td>\n",
       "      <td>5.0</td>\n",
       "      <td>1 Review , 2 Followers</td>\n",
       "      <td>2019-05-25 15:54:00</td>\n",
       "      <td>0</td>\n",
       "      <td>Beyond Flavours</td>\n",
       "      <td>https://www.zomato.com/hyderabad/beyond-flavou...</td>\n",
       "      <td>800</td>\n",
       "      <td>...</td>\n",
       "      <td>1</td>\n",
       "      <td>0</td>\n",
       "      <td>0</td>\n",
       "      <td>0</td>\n",
       "      <td>1</td>\n",
       "      <td>0</td>\n",
       "      <td>0</td>\n",
       "      <td>0</td>\n",
       "      <td>0</td>\n",
       "      <td>0</td>\n",
       "    </tr>\n",
       "    <tr>\n",
       "      <th>1</th>\n",
       "      <td>Beyond Flavours</td>\n",
       "      <td>Anusha Tirumalaneedi</td>\n",
       "      <td>ambience is too good for a pleasant evening. s...</td>\n",
       "      <td>5.0</td>\n",
       "      <td>3 Reviews , 2 Followers</td>\n",
       "      <td>2019-05-25 14:20:00</td>\n",
       "      <td>0</td>\n",
       "      <td>Beyond Flavours</td>\n",
       "      <td>https://www.zomato.com/hyderabad/beyond-flavou...</td>\n",
       "      <td>800</td>\n",
       "      <td>...</td>\n",
       "      <td>1</td>\n",
       "      <td>0</td>\n",
       "      <td>0</td>\n",
       "      <td>0</td>\n",
       "      <td>1</td>\n",
       "      <td>0</td>\n",
       "      <td>0</td>\n",
       "      <td>0</td>\n",
       "      <td>0</td>\n",
       "      <td>0</td>\n",
       "    </tr>\n",
       "    <tr>\n",
       "      <th>2</th>\n",
       "      <td>Beyond Flavours</td>\n",
       "      <td>Ashok Shekhawat</td>\n",
       "      <td>a must try.. great food great ambience. thnx f...</td>\n",
       "      <td>5.0</td>\n",
       "      <td>2 Reviews , 3 Followers</td>\n",
       "      <td>2019-05-24 22:54:00</td>\n",
       "      <td>0</td>\n",
       "      <td>Beyond Flavours</td>\n",
       "      <td>https://www.zomato.com/hyderabad/beyond-flavou...</td>\n",
       "      <td>800</td>\n",
       "      <td>...</td>\n",
       "      <td>1</td>\n",
       "      <td>0</td>\n",
       "      <td>0</td>\n",
       "      <td>0</td>\n",
       "      <td>1</td>\n",
       "      <td>0</td>\n",
       "      <td>0</td>\n",
       "      <td>0</td>\n",
       "      <td>0</td>\n",
       "      <td>0</td>\n",
       "    </tr>\n",
       "    <tr>\n",
       "      <th>3</th>\n",
       "      <td>Beyond Flavours</td>\n",
       "      <td>Swapnil Sarkar</td>\n",
       "      <td>soumen das and arun was a great guy. only beca...</td>\n",
       "      <td>5.0</td>\n",
       "      <td>1 Review , 1 Follower</td>\n",
       "      <td>2019-05-24 22:11:00</td>\n",
       "      <td>0</td>\n",
       "      <td>Beyond Flavours</td>\n",
       "      <td>https://www.zomato.com/hyderabad/beyond-flavou...</td>\n",
       "      <td>800</td>\n",
       "      <td>...</td>\n",
       "      <td>1</td>\n",
       "      <td>0</td>\n",
       "      <td>0</td>\n",
       "      <td>0</td>\n",
       "      <td>1</td>\n",
       "      <td>0</td>\n",
       "      <td>0</td>\n",
       "      <td>0</td>\n",
       "      <td>0</td>\n",
       "      <td>0</td>\n",
       "    </tr>\n",
       "    <tr>\n",
       "      <th>4</th>\n",
       "      <td>Beyond Flavours</td>\n",
       "      <td>Dileep</td>\n",
       "      <td>food is good.we ordered kodi drumsticks and ba...</td>\n",
       "      <td>5.0</td>\n",
       "      <td>3 Reviews , 2 Followers</td>\n",
       "      <td>2019-05-24 21:37:00</td>\n",
       "      <td>0</td>\n",
       "      <td>Beyond Flavours</td>\n",
       "      <td>https://www.zomato.com/hyderabad/beyond-flavou...</td>\n",
       "      <td>800</td>\n",
       "      <td>...</td>\n",
       "      <td>1</td>\n",
       "      <td>0</td>\n",
       "      <td>0</td>\n",
       "      <td>0</td>\n",
       "      <td>1</td>\n",
       "      <td>0</td>\n",
       "      <td>0</td>\n",
       "      <td>0</td>\n",
       "      <td>0</td>\n",
       "      <td>0</td>\n",
       "    </tr>\n",
       "    <tr>\n",
       "      <th>...</th>\n",
       "      <td>...</td>\n",
       "      <td>...</td>\n",
       "      <td>...</td>\n",
       "      <td>...</td>\n",
       "      <td>...</td>\n",
       "      <td>...</td>\n",
       "      <td>...</td>\n",
       "      <td>...</td>\n",
       "      <td>...</td>\n",
       "      <td>...</td>\n",
       "      <td>...</td>\n",
       "      <td>...</td>\n",
       "      <td>...</td>\n",
       "      <td>...</td>\n",
       "      <td>...</td>\n",
       "      <td>...</td>\n",
       "      <td>...</td>\n",
       "      <td>...</td>\n",
       "      <td>...</td>\n",
       "      <td>...</td>\n",
       "      <td>...</td>\n",
       "    </tr>\n",
       "    <tr>\n",
       "      <th>9959</th>\n",
       "      <td>Chinese Pavilion</td>\n",
       "      <td>Abhishek Mahajan</td>\n",
       "      <td>madhumathi mahajan well to start with nice cou...</td>\n",
       "      <td>3.0</td>\n",
       "      <td>53 Reviews , 54 Followers</td>\n",
       "      <td>2016-06-05 00:08:00</td>\n",
       "      <td>0</td>\n",
       "      <td>Chinese Pavilion</td>\n",
       "      <td>https://www.zomato.com/hyderabad/chinese-pavil...</td>\n",
       "      <td>1000</td>\n",
       "      <td>...</td>\n",
       "      <td>0</td>\n",
       "      <td>0</td>\n",
       "      <td>0</td>\n",
       "      <td>1</td>\n",
       "      <td>0</td>\n",
       "      <td>0</td>\n",
       "      <td>0</td>\n",
       "      <td>0</td>\n",
       "      <td>0</td>\n",
       "      <td>0</td>\n",
       "    </tr>\n",
       "    <tr>\n",
       "      <th>9960</th>\n",
       "      <td>Chinese Pavilion</td>\n",
       "      <td>Sharad Agrawal</td>\n",
       "      <td>this place has never disappointed us.. the foo...</td>\n",
       "      <td>4.5</td>\n",
       "      <td>2 Reviews , 53 Followers</td>\n",
       "      <td>2016-06-04 22:01:00</td>\n",
       "      <td>0</td>\n",
       "      <td>Chinese Pavilion</td>\n",
       "      <td>https://www.zomato.com/hyderabad/chinese-pavil...</td>\n",
       "      <td>1000</td>\n",
       "      <td>...</td>\n",
       "      <td>0</td>\n",
       "      <td>0</td>\n",
       "      <td>0</td>\n",
       "      <td>1</td>\n",
       "      <td>0</td>\n",
       "      <td>0</td>\n",
       "      <td>0</td>\n",
       "      <td>0</td>\n",
       "      <td>0</td>\n",
       "      <td>0</td>\n",
       "    </tr>\n",
       "    <tr>\n",
       "      <th>9961</th>\n",
       "      <td>Chinese Pavilion</td>\n",
       "      <td>Ramandeep</td>\n",
       "      <td>bad rating is mainly because of \"chicken bone ...</td>\n",
       "      <td>1.5</td>\n",
       "      <td>65 Reviews , 423 Followers</td>\n",
       "      <td>2016-06-03 10:37:00</td>\n",
       "      <td>3</td>\n",
       "      <td>Chinese Pavilion</td>\n",
       "      <td>https://www.zomato.com/hyderabad/chinese-pavil...</td>\n",
       "      <td>1000</td>\n",
       "      <td>...</td>\n",
       "      <td>0</td>\n",
       "      <td>0</td>\n",
       "      <td>0</td>\n",
       "      <td>1</td>\n",
       "      <td>0</td>\n",
       "      <td>0</td>\n",
       "      <td>0</td>\n",
       "      <td>0</td>\n",
       "      <td>0</td>\n",
       "      <td>0</td>\n",
       "    </tr>\n",
       "    <tr>\n",
       "      <th>9962</th>\n",
       "      <td>Chinese Pavilion</td>\n",
       "      <td>Nayana Shanbhag</td>\n",
       "      <td>i personally love and prefer chinese food. had...</td>\n",
       "      <td>4.0</td>\n",
       "      <td>13 Reviews , 144 Followers</td>\n",
       "      <td>2016-05-31 17:22:00</td>\n",
       "      <td>0</td>\n",
       "      <td>Chinese Pavilion</td>\n",
       "      <td>https://www.zomato.com/hyderabad/chinese-pavil...</td>\n",
       "      <td>1000</td>\n",
       "      <td>...</td>\n",
       "      <td>0</td>\n",
       "      <td>0</td>\n",
       "      <td>0</td>\n",
       "      <td>1</td>\n",
       "      <td>0</td>\n",
       "      <td>0</td>\n",
       "      <td>0</td>\n",
       "      <td>0</td>\n",
       "      <td>0</td>\n",
       "      <td>0</td>\n",
       "    </tr>\n",
       "    <tr>\n",
       "      <th>9963</th>\n",
       "      <td>Chinese Pavilion</td>\n",
       "      <td>Bhargava Krishna</td>\n",
       "      <td>checked in here to try some delicious chinese ...</td>\n",
       "      <td>3.5</td>\n",
       "      <td>472 Reviews , 1302 Followers</td>\n",
       "      <td>2016-05-31 16:41:00</td>\n",
       "      <td>6</td>\n",
       "      <td>Chinese Pavilion</td>\n",
       "      <td>https://www.zomato.com/hyderabad/chinese-pavil...</td>\n",
       "      <td>1000</td>\n",
       "      <td>...</td>\n",
       "      <td>0</td>\n",
       "      <td>0</td>\n",
       "      <td>0</td>\n",
       "      <td>1</td>\n",
       "      <td>0</td>\n",
       "      <td>0</td>\n",
       "      <td>0</td>\n",
       "      <td>0</td>\n",
       "      <td>0</td>\n",
       "      <td>0</td>\n",
       "    </tr>\n",
       "  </tbody>\n",
       "</table>\n",
       "<p>9764 rows × 58 columns</p>\n",
       "</div>"
      ],
      "text/plain": [
       "            restaurant              reviewer  \\\n",
       "0      Beyond Flavours     Rusha Chakraborty   \n",
       "1      Beyond Flavours  Anusha Tirumalaneedi   \n",
       "2      Beyond Flavours       Ashok Shekhawat   \n",
       "3      Beyond Flavours        Swapnil Sarkar   \n",
       "4      Beyond Flavours                Dileep   \n",
       "...                ...                   ...   \n",
       "9959  Chinese Pavilion      Abhishek Mahajan   \n",
       "9960  Chinese Pavilion        Sharad Agrawal   \n",
       "9961  Chinese Pavilion             Ramandeep   \n",
       "9962  Chinese Pavilion       Nayana Shanbhag   \n",
       "9963  Chinese Pavilion      Bhargava Krishna   \n",
       "\n",
       "                                                 review  rating  \\\n",
       "0     the ambience was good, food was quite good . h...     5.0   \n",
       "1     ambience is too good for a pleasant evening. s...     5.0   \n",
       "2     a must try.. great food great ambience. thnx f...     5.0   \n",
       "3     soumen das and arun was a great guy. only beca...     5.0   \n",
       "4     food is good.we ordered kodi drumsticks and ba...     5.0   \n",
       "...                                                 ...     ...   \n",
       "9959  madhumathi mahajan well to start with nice cou...     3.0   \n",
       "9960  this place has never disappointed us.. the foo...     4.5   \n",
       "9961  bad rating is mainly because of \"chicken bone ...     1.5   \n",
       "9962  i personally love and prefer chinese food. had...     4.0   \n",
       "9963  checked in here to try some delicious chinese ...     3.5   \n",
       "\n",
       "                          metadata                time  pictures  \\\n",
       "0           1 Review , 2 Followers 2019-05-25 15:54:00         0   \n",
       "1          3 Reviews , 2 Followers 2019-05-25 14:20:00         0   \n",
       "2          2 Reviews , 3 Followers 2019-05-24 22:54:00         0   \n",
       "3            1 Review , 1 Follower 2019-05-24 22:11:00         0   \n",
       "4          3 Reviews , 2 Followers 2019-05-24 21:37:00         0   \n",
       "...                            ...                 ...       ...   \n",
       "9959     53 Reviews , 54 Followers 2016-06-05 00:08:00         0   \n",
       "9960      2 Reviews , 53 Followers 2016-06-04 22:01:00         0   \n",
       "9961    65 Reviews , 423 Followers 2016-06-03 10:37:00         3   \n",
       "9962    13 Reviews , 144 Followers 2016-05-31 17:22:00         0   \n",
       "9963  472 Reviews , 1302 Followers 2016-05-31 16:41:00         6   \n",
       "\n",
       "                  name                                              links  \\\n",
       "0      Beyond Flavours  https://www.zomato.com/hyderabad/beyond-flavou...   \n",
       "1      Beyond Flavours  https://www.zomato.com/hyderabad/beyond-flavou...   \n",
       "2      Beyond Flavours  https://www.zomato.com/hyderabad/beyond-flavou...   \n",
       "3      Beyond Flavours  https://www.zomato.com/hyderabad/beyond-flavou...   \n",
       "4      Beyond Flavours  https://www.zomato.com/hyderabad/beyond-flavou...   \n",
       "...                ...                                                ...   \n",
       "9959  Chinese Pavilion  https://www.zomato.com/hyderabad/chinese-pavil...   \n",
       "9960  Chinese Pavilion  https://www.zomato.com/hyderabad/chinese-pavil...   \n",
       "9961  Chinese Pavilion  https://www.zomato.com/hyderabad/chinese-pavil...   \n",
       "9962  Chinese Pavilion  https://www.zomato.com/hyderabad/chinese-pavil...   \n",
       "9963  Chinese Pavilion  https://www.zomato.com/hyderabad/chinese-pavil...   \n",
       "\n",
       "      cost  ... North Indian Pizza Salad Seafood South Indian Spanish  \\\n",
       "0      800  ...            1     0     0       0            1       0   \n",
       "1      800  ...            1     0     0       0            1       0   \n",
       "2      800  ...            1     0     0       0            1       0   \n",
       "3      800  ...            1     0     0       0            1       0   \n",
       "4      800  ...            1     0     0       0            1       0   \n",
       "...    ...  ...          ...   ...   ...     ...          ...     ...   \n",
       "9959  1000  ...            0     0     0       1            0       0   \n",
       "9960  1000  ...            0     0     0       1            0       0   \n",
       "9961  1000  ...            0     0     0       1            0       0   \n",
       "9962  1000  ...            0     0     0       1            0       0   \n",
       "9963  1000  ...            0     0     0       1            0       0   \n",
       "\n",
       "      Street Food  Sushi  Thai  Wraps  \n",
       "0               0      0     0      0  \n",
       "1               0      0     0      0  \n",
       "2               0      0     0      0  \n",
       "3               0      0     0      0  \n",
       "4               0      0     0      0  \n",
       "...           ...    ...   ...    ...  \n",
       "9959            0      0     0      0  \n",
       "9960            0      0     0      0  \n",
       "9961            0      0     0      0  \n",
       "9962            0      0     0      0  \n",
       "9963            0      0     0      0  \n",
       "\n",
       "[9764 rows x 58 columns]"
      ]
     },
     "execution_count": 115,
     "metadata": {},
     "output_type": "execute_result"
    }
   ],
   "source": [
    "df"
   ]
  },
  {
   "cell_type": "code",
   "execution_count": 64,
   "id": "8626ecfa-c4c3-49f2-a6e1-44a8e79480c5",
   "metadata": {},
   "outputs": [],
   "source": [
    "# Cost vs Rating (Numerical vs Numerical)"
   ]
  },
  {
   "cell_type": "code",
   "execution_count": 116,
   "id": "610a4060-ee5b-4073-8001-1cefe5b057b7",
   "metadata": {},
   "outputs": [
    {
     "data": {
      "image/png": "[encoded data removed]",
      "text/plain": [
       "<Figure size 800x600 with 1 Axes>"
      ]
     },
     "metadata": {},
     "output_type": "display_data"
    }
   ],
   "source": [
    "plt.figure(figsize=(8,6))\n",
    "sns.scatterplot(data=merged_df, x='cost', y='rating', alpha=0.5)\n",
    "plt.title(\"Cost vs Rating\")\n",
    "plt.xlabel(\"Cost for Two\")\n",
    "plt.ylabel(\"Rating\")\n",
    "plt.show()\n"
   ]
  },
  {
   "cell_type": "code",
   "execution_count": 66,
   "id": "c1122d2a-a9a5-42db-a1d9-35d86ccd2852",
   "metadata": {},
   "outputs": [],
   "source": [
    " # Cuisine vs Average Rating (Categorical vs Numerical)"
   ]
  },
  {
   "cell_type": "code",
   "execution_count": 117,
   "id": "7413b9d8-583b-449c-aef7-70ceca4b9841",
   "metadata": {},
   "outputs": [
    {
     "data": {
      "image/png": "[encoded data removed]",
      "text/plain": [
       "<Figure size 1000x600 with 1 Axes>"
      ]
     },
     "metadata": {},
     "output_type": "display_data"
    }
   ],
   "source": [
    "top_cuisines = merged_df['cuisines'].value_counts().head(10).index\n",
    "\n",
    "cuisine_rating = (\n",
    "    merged_df[merged_df['cuisines'].isin(top_cuisines)]\n",
    "    .groupby('cuisines')['rating']\n",
    "    .mean()\n",
    "    .sort_values()\n",
    ")\n",
    "\n",
    "plt.figure(figsize=(10, 6))\n",
    "sns.barplot(x=cuisine_rating.values, y=cuisine_rating.index, palette=\"magma\")\n",
    "plt.title(\"Average Rating by Cuisine Type\")\n",
    "plt.xlabel(\"Average Rating\")\n",
    "plt.ylabel(\"Cuisine\")\n",
    "plt.show()\n"
   ]
  },
  {
   "cell_type": "markdown",
   "id": "ea3d5fd9-4f0b-4877-bc37-72d180994a64",
   "metadata": {},
   "source": [
    "#  Step 3C: Multivariate Analysis\n",
    "\n",
    "##  What is Multivariate Analysis?\n",
    "\n",
    "Multivariate Analysis means studying **3 or more features at once** to discover deeper patterns, trends, or insights.\n",
    "\n",
    "---\n",
    "\n",
    "## Goal:\n",
    "To understand how **multiple variables together** impact business outcomes like:\n",
    "\n",
    "- **Ratings**\n",
    "- **Costs**\n",
    "- **Customer satisfaction**\n"
   ]
  },
  {
   "cell_type": "code",
   "execution_count": 118,
   "id": "4c6b4458-54a8-4a08-a2ac-7cdc05524351",
   "metadata": {},
   "outputs": [
    {
     "data": {
      "image/png": "[encoded data removed]",
      "text/plain": [
       "<Figure size 1000x600 with 1 Axes>"
      ]
     },
     "metadata": {},
     "output_type": "display_data"
    }
   ],
   "source": [
    "top_cuisines = merged_df['cuisines'].value_counts().head(5).index\n",
    "subset = merged_df[merged_df['cuisines'].isin(top_cuisines)]\n",
    "\n",
    "plt.figure(figsize=(10, 6))\n",
    "sns.scatterplot(data=subset, x='cost', y='rating', hue='cuisines')\n",
    "plt.title(\"Cost vs Rating Colored by Cuisine\")\n",
    "plt.xlabel(\"Cost for Two\")\n",
    "plt.ylabel(\"Rating\")\n",
    "plt.legend(title='Cuisine')\n",
    "plt.show()\n"
   ]
  },
  {
   "cell_type": "code",
   "execution_count": 119,
   "id": "dc13aeb0-d8e8-4fe2-b3c2-11313f88cff8",
   "metadata": {},
   "outputs": [
    {
     "data": {
      "image/png": "[encoded data removed]",
      "text/plain": [
       "<Figure size 800x600 with 1 Axes>"
      ]
     },
     "metadata": {},
     "output_type": "display_data"
    }
   ],
   "source": [
    "\n",
    "merged_df['cost_category'] = pd.cut(\n",
    "    merged_df['cost'],\n",
    "    bins=[0, 300, 700, 2000],\n",
    "    labels=['Low', 'Medium', 'High']\n",
    ")\n",
    "plt.figure(figsize=(8,6))\n",
    "sns.boxplot(data=merged_df, x='cost_category', y='rating', palette='pastel')\n",
    "plt.title(\"Rating by Cost Category\")\n",
    "plt.xlabel(\"Cost Category\")\n",
    "plt.ylabel(\"Rating\")\n",
    "plt.show()\n"
   ]
  },
  {
   "cell_type": "markdown",
   "id": "e04558cf-6c25-4423-b05f-dad62cd083e1",
   "metadata": {},
   "source": [
    "# Textual Data Preprocessing (for Sentiment Analysis)\n",
    "\n",
    "## Goal:\n",
    "This is **mandatory** because you're analyzing **customer reviews (text data)** using **Natural Language Processing (NLP)**.\n",
    "\n",
    "---\n",
    "\n",
    "## Why Preprocessing is Needed:\n",
    "Raw reviews often contain:\n",
    "- Punctuation\n",
    "- Stop words (e.g., \"is\", \"the\", \"and\")\n",
    "- HTML tags\n",
    "- Mixed casing\n",
    "- Emojis and symbols\n",
    "\n",
    "---\n",
    "\n",
    "## Common Preprocessing Steps:\n",
    "1. **Lowercasing** – Convert all text to lowercase\n",
    "2. **Removing punctuation and special characters**\n",
    "3. **Removing stop words** – Words that don't add meaningful context\n",
    "4. **Tokenization** – Split sentences into words\n",
    "5. **Stemming/Lemmatization** – Reduce words to root form\n",
    "6. **Removing numbers**\n",
    "7. **Stripping extra whitespace**\n",
    "\n",
    "---\n",
    "\n",
    " This step ensures that your model focuses only on **useful, meaningful words**, improving both performance and accuracy in sentiment classification.\n"
   ]
  },
  {
   "cell_type": "code",
   "execution_count": 71,
   "id": "a3d0547e-1ea4-404b-a3ee-0cb1ccd698ec",
   "metadata": {},
   "outputs": [],
   "source": [
    "#  Text Cleaning & Preprocessing"
   ]
  },
  {
   "cell_type": "code",
   "execution_count": 72,
   "id": "4ea307f8-6248-416f-b000-de4adee8d743",
   "metadata": {},
   "outputs": [
    {
     "name": "stderr",
     "output_type": "stream",
     "text": [
      "[nltk_data] Downloading package stopwords to\n",
      "[nltk_data]     C:\\Users\\HP\\AppData\\Roaming\\nltk_data...\n",
      "[nltk_data]   Package stopwords is already up-to-date!\n"
     ]
    }
   ],
   "source": [
    "import re\n",
    "import string\n",
    "import nltk\n",
    "from nltk.corpus import stopwords\n",
    "from nltk.stem import PorterStemmer\n",
    "\n",
    "nltk.download('stopwords')\n",
    "stop_words = set(stopwords.words('english'))\n",
    "stemmer = PorterStemmer()\n",
    "\n",
    "def clean_text(text):\n",
    "    text = str(text).lower()                                 # Lowercase\n",
    "    text = re.sub(r'\\d+', '', text)                          # Remove numbers\n",
    "    text = text.translate(str.maketrans('', '', string.punctuation))  # Remove punctuation\n",
    "    text = text.strip()                                      # Remove whitespaces\n",
    "    text = ' '.join([word for word in text.split() if word not in stop_words])  # Remove stopwords\n",
    "    text = ' '.join([stemmer.stem(word) for word in text.split()])   # Stemming\n",
    "    return text\n",
    "\n",
    "df['cleaned_reviews'] = review_df['review'].apply(clean_text)\n"
   ]
  },
  {
   "cell_type": "code",
   "execution_count": 73,
   "id": "b01d79b1-8276-42a0-96a6-db74561dd68d",
   "metadata": {},
   "outputs": [
    {
     "data": {
      "text/plain": [
       "0      ambienc good food quit good saturday lunch cos...\n",
       "1      ambienc good pleasant even servic prompt food ...\n",
       "2      must tri great food great ambienc thnx servic ...\n",
       "3      soumen da arun great guy behavior sincereti go...\n",
       "4      food goodw order kodi drumstick basket mutton ...\n",
       "                             ...                        \n",
       "100    paradis biryani realli good servic also good s...\n",
       "101    chiken biryani good spcal chiken cari good tes...\n",
       "102    good hospitalitygood ambianc good food v good ...\n",
       "103    good food tasti better music food better quick...\n",
       "104    goodtasteev paradis make magicchef gladli prep...\n",
       "Name: cleaned_reviews, Length: 105, dtype: object"
      ]
     },
     "execution_count": 73,
     "metadata": {},
     "output_type": "execute_result"
    }
   ],
   "source": [
    "df['cleaned_reviews'] "
   ]
  },
  {
   "cell_type": "code",
   "execution_count": 74,
   "id": "b1c45150-29a5-4f1c-ae40-ada76a2e74f6",
   "metadata": {},
   "outputs": [],
   "source": [
    "# Step 2: Convert Text to Vectors (TF-IDF)"
   ]
  },
  {
   "cell_type": "code",
   "execution_count": 75,
   "id": "a13b8c10-9ea0-4638-ad8a-cff698c9fdf1",
   "metadata": {},
   "outputs": [],
   "source": [
    "from sklearn.feature_extraction.text import TfidfVectorizer\n",
    "\n",
    "tfidf = TfidfVectorizer(max_features=1000)\n",
    "X_text = tfidf.fit_transform(df['cleaned_reviews']).toarray()\n"
   ]
  },
  {
   "cell_type": "code",
   "execution_count": 76,
   "id": "a088df53-34d1-4a77-ac31-e7ca5a314ada",
   "metadata": {},
   "outputs": [],
   "source": [
    "# Step 3: Prepare Sentiment Labels"
   ]
  },
  {
   "cell_type": "code",
   "execution_count": 77,
   "id": "af074e07-73d8-4650-8b04-b78066115aff",
   "metadata": {},
   "outputs": [],
   "source": [
    "# Example: Convert rating to sentiment\n",
    "def label_sentiment(rating):\n",
    "    if rating >= 4:\n",
    "        return 'positive'\n",
    "    elif rating == 3:\n",
    "        return 'neutral'\n",
    "    else:\n",
    "        return 'negative'\n",
    "\n",
    "df['Sentiment'] = review_df['rating'].apply(label_sentiment)\n"
   ]
  },
  {
   "cell_type": "code",
   "execution_count": 78,
   "id": "382f516d-3f4f-4def-9308-922c23ed9bf7",
   "metadata": {},
   "outputs": [
    {
     "data": {
      "text/plain": [
       "0      positive\n",
       "1      positive\n",
       "2      positive\n",
       "3      positive\n",
       "4      positive\n",
       "         ...   \n",
       "100    positive\n",
       "101    positive\n",
       "102    positive\n",
       "103    positive\n",
       "104    positive\n",
       "Name: Sentiment, Length: 105, dtype: object"
      ]
     },
     "execution_count": 78,
     "metadata": {},
     "output_type": "execute_result"
    }
   ],
   "source": [
    "df['Sentiment']"
   ]
  },
  {
   "cell_type": "code",
   "execution_count": 79,
   "id": "a8d6bb7b-6d50-4b4d-bb37-90198ff2ca50",
   "metadata": {},
   "outputs": [],
   "source": [
    "# Encode the target labels:\n"
   ]
  },
  {
   "cell_type": "code",
   "execution_count": 80,
   "id": "b2bc1e93-0dfe-4f9b-b004-85c64e0c2bc3",
   "metadata": {},
   "outputs": [],
   "source": [
    "from sklearn.preprocessing import LabelEncoder\n",
    "\n",
    "le = LabelEncoder()\n",
    "y = le.fit_transform(df['Sentiment'])  # 0 = negative, 1 = neutral, 2 = positive\n"
   ]
  },
  {
   "cell_type": "markdown",
   "id": "97910e3d-bdba-4580-9ccb-97a22c1f1a79",
   "metadata": {},
   "source": [
    "# Step 4: Train-Test Split"
   ]
  },
  {
   "cell_type": "code",
   "execution_count": 81,
   "id": "bb0b50b4-aae6-4ea4-8298-46475062de88",
   "metadata": {},
   "outputs": [],
   "source": [
    "from sklearn.model_selection import train_test_split\n",
    "\n",
    "X_train, X_test, y_train, y_test = train_test_split(X_text, y, test_size=0.2, random_state=42)\n"
   ]
  },
  {
   "cell_type": "code",
   "execution_count": 82,
   "id": "78e3bb85-3eab-442c-9522-25edb71556e3",
   "metadata": {},
   "outputs": [],
   "source": [
    " # Train Baseline ML Model – Logistic Regression"
   ]
  },
  {
   "cell_type": "code",
   "execution_count": 83,
   "id": "8f334509-1096-40a4-b2c6-3c74a62508a4",
   "metadata": {},
   "outputs": [
    {
     "name": "stdout",
     "output_type": "stream",
     "text": [
      "              precision    recall  f1-score   support\n",
      "\n",
      "           0       0.00      0.00      0.00         2\n",
      "           1       0.00      0.00      0.00         2\n",
      "           2       0.81      1.00      0.89        17\n",
      "\n",
      "    accuracy                           0.81        21\n",
      "   macro avg       0.27      0.33      0.30        21\n",
      "weighted avg       0.66      0.81      0.72        21\n",
      "\n"
     ]
    },
    {
     "name": "stderr",
     "output_type": "stream",
     "text": [
      "C:\\Users\\HP\\anaconda3\\Lib\\site-packages\\sklearn\\metrics\\_classification.py:1565: UndefinedMetricWarning: Precision is ill-defined and being set to 0.0 in labels with no predicted samples. Use `zero_division` parameter to control this behavior.\n",
      "  _warn_prf(average, modifier, f\"{metric.capitalize()} is\", len(result))\n",
      "C:\\Users\\HP\\anaconda3\\Lib\\site-packages\\sklearn\\metrics\\_classification.py:1565: UndefinedMetricWarning: Precision is ill-defined and being set to 0.0 in labels with no predicted samples. Use `zero_division` parameter to control this behavior.\n",
      "  _warn_prf(average, modifier, f\"{metric.capitalize()} is\", len(result))\n",
      "C:\\Users\\HP\\anaconda3\\Lib\\site-packages\\sklearn\\metrics\\_classification.py:1565: UndefinedMetricWarning: Precision is ill-defined and being set to 0.0 in labels with no predicted samples. Use `zero_division` parameter to control this behavior.\n",
      "  _warn_prf(average, modifier, f\"{metric.capitalize()} is\", len(result))\n"
     ]
    }
   ],
   "source": [
    "from sklearn.linear_model import LogisticRegression\n",
    "from sklearn.metrics import classification_report\n",
    "\n",
    "model = LogisticRegression()\n",
    "model.fit(X_train, y_train)\n",
    "\n",
    "y_pred = model.predict(X_test)\n",
    "print(classification_report(y_test, y_pred))\n"
   ]
  },
  {
   "cell_type": "code",
   "execution_count": 84,
   "id": "0cd33c16-b23d-45cb-9782-a38eb6474d25",
   "metadata": {},
   "outputs": [],
   "source": [
    "# Cross-Validation"
   ]
  },
  {
   "cell_type": "code",
   "execution_count": 85,
   "id": "2bf364b8-dbc8-4ac5-84fc-a00b8dfeff18",
   "metadata": {},
   "outputs": [
    {
     "name": "stdout",
     "output_type": "stream",
     "text": [
      "CV F1 Score: 0.33419354838709675\n"
     ]
    },
    {
     "name": "stderr",
     "output_type": "stream",
     "text": [
      "C:\\Users\\HP\\anaconda3\\Lib\\site-packages\\sklearn\\model_selection\\_split.py:805: UserWarning: The least populated class in y has only 4 members, which is less than n_splits=5.\n",
      "  warnings.warn(\n"
     ]
    }
   ],
   "source": [
    "from sklearn.model_selection import cross_val_score\n",
    "\n",
    "cv_score = cross_val_score(model, X_train, y_train, cv=5, scoring='f1_macro')\n",
    "print(\"CV F1 Score:\", cv_score.mean())\n"
   ]
  },
  {
   "cell_type": "code",
   "execution_count": 86,
   "id": "63a1e544-0cb0-47b8-8eb2-de4b34a65e6d",
   "metadata": {},
   "outputs": [],
   "source": [
    "# Hyperparameter Tuning (GridSearchCV)"
   ]
  },
  {
   "cell_type": "code",
   "execution_count": 87,
   "id": "32df48c1-3e66-4b3c-b35a-dfb2e5992871",
   "metadata": {},
   "outputs": [
    {
     "name": "stderr",
     "output_type": "stream",
     "text": [
      "C:\\Users\\HP\\anaconda3\\Lib\\site-packages\\sklearn\\model_selection\\_split.py:805: UserWarning: The least populated class in y has only 4 members, which is less than n_splits=5.\n",
      "  warnings.warn(\n"
     ]
    },
    {
     "name": "stdout",
     "output_type": "stream",
     "text": [
      "Best Params: {'C': 0.1}\n"
     ]
    }
   ],
   "source": [
    "from sklearn.model_selection import GridSearchCV\n",
    "\n",
    "param_grid = {'C': [0.1, 1, 10]}\n",
    "grid = GridSearchCV(LogisticRegression(), param_grid, cv=5, scoring='f1_macro')\n",
    "grid.fit(X_train, y_train)\n",
    "\n",
    "best_model = grid.best_estimator_\n",
    "print(\"Best Params:\", grid.best_params_)\n"
   ]
  },
  {
   "cell_type": "code",
   "execution_count": 88,
   "id": "ad44b2fc-dead-4adc-a288-306f50c65d3e",
   "metadata": {},
   "outputs": [],
   "source": [
    "# Step 5: Hypothesis Testing\n"
   ]
  },
  {
   "cell_type": "markdown",
   "id": "a35153dc-a135-4987-87b9-f1f20679c54c",
   "metadata": {},
   "source": [
    "##  Hypothesis 1:\n",
    "\n",
    "**Higher-rated restaurants have higher average costs.**\n",
    "\n",
    "###  1. Null and Alternate Hypotheses:\n",
    "\n",
    "- **H₀ (Null Hypothesis):**  \n",
    "  There is **no significant difference** in average cost between high-rated and low-rated restaurants.\n",
    "\n",
    "- **H₁ (Alternate Hypothesis):**  \n",
    "  There **is a significant difference** in average cost between high-rated and low-rated restaurants.\n"
   ]
  },
  {
   "cell_type": "code",
   "execution_count": 89,
   "id": "19e8b729-dca6-4728-823d-441f0706b99b",
   "metadata": {},
   "outputs": [
    {
     "name": "stdout",
     "output_type": "stream",
     "text": [
      "T-statistic: 12.52563505885228\n",
      "P-value: 1.0039757254009864e-35\n",
      "Reject Null Hypothesis: High-rated and low-rated restaurants have significantly different average costs.\n"
     ]
    }
   ],
   "source": [
    "from scipy.stats import ttest_ind\n",
    "\n",
    "# Cleaned and merged dataset: merged_df\n",
    "\n",
    "# Create groups\n",
    "high_rated = merged_df[merged_df['rating'] >= 4.0]['cost']\n",
    "low_rated = merged_df[merged_df['rating'] < 4.0]['cost']\n",
    "\n",
    "# Remove NaNs\n",
    "high_rated = high_rated.dropna()\n",
    "low_rated = low_rated.dropna()\n",
    "\n",
    "# Perform t-test\n",
    "t_stat, p_val = ttest_ind(high_rated, low_rated)\n",
    "\n",
    "print(\"T-statistic:\", t_stat)\n",
    "print(\"P-value:\", p_val)\n",
    "\n",
    "if p_val < 0.05:\n",
    "    print(\"Reject Null Hypothesis: High-rated and low-rated restaurants have significantly different average costs.\")\n",
    "else:\n",
    "    print(\"Fail to Reject Null Hypothesis: No significant difference in cost.\")\n"
   ]
  },
  {
   "cell_type": "markdown",
   "id": "82495da3-017a-4a68-bd26-bd0e99b17096",
   "metadata": {},
   "source": [
    "##  Hypothesis 2:\n",
    "\n",
    "**Average rating differs significantly among the top 5 cuisines.**\n",
    "\n",
    "###  1. Null and Alternate Hypotheses:\n",
    "\n",
    "- **H₀ (Null Hypothesis):**  \n",
    "  All top 5 cuisines have the **same average rating**.\n",
    "\n",
    "- **H₁ (Alternate Hypothesis):**  \n",
    "  **At least one cuisine** has a **different average rating**."
   ]
  },
  {
   "cell_type": "code",
   "execution_count": 91,
   "id": "4e83e22d-e8c6-4669-8eea-bbcd320e6d1e",
   "metadata": {},
   "outputs": [
    {
     "name": "stdout",
     "output_type": "stream",
     "text": [
      "F-statistic: 9.12243228495859\n",
      "P-value: 2.8761951343885705e-07\n",
      "Reject H₀: At least one cuisine has a different average rating.\n"
     ]
    }
   ],
   "source": [
    "\n",
    "from scipy.stats import f_oneway\n",
    "\n",
    "top_cuisines = merged_df['cuisines'].value_counts().head(5).index\n",
    "subset = merged_df[merged_df['cuisines'].isin(top_cuisines)]\n",
    "\n",
    "# Extract rating lists\n",
    "groups = [subset[subset['cuisines'] == cuisine]['rating'].dropna() for cuisine in top_cuisines]\n",
    "\n",
    "# Perform ANOVA\n",
    "f_stat, p_val = f_oneway(*groups)\n",
    "\n",
    "print(\"F-statistic:\", f_stat)\n",
    "print(\"P-value:\", p_val)\n",
    "\n",
    "if p_val < 0.05:\n",
    "    print(\"Reject H₀: At least one cuisine has a different average rating.\")\n",
    "else:\n",
    "    print(\"Fail to Reject H₀: No significant difference in rating among cuisines.\")\n"
   ]
  },
  {
   "cell_type": "markdown",
   "id": "5b1a58ce-ae93-4a7a-ac65-21d0c201762d",
   "metadata": {},
   "source": [
    "## Hypothesis 3:\n",
    "\n",
    "**Restaurants with collections have different average ratings compared to those without collections.**\n",
    "\n",
    "###  1. Null and Alternate Hypotheses:\n",
    "\n",
    "- **H₀ (Null Hypothesis):**  \n",
    "  **Collection status has no effect** on average rating.\n",
    "\n",
    "- **H₁ (Alternate Hypothesis):**  \n",
    "  **Collection status affects** average rating."
   ]
  },
  {
   "cell_type": "code",
   "execution_count": 93,
   "id": "4c74c3d9-637e-47e0-8358-7798e17a366e",
   "metadata": {},
   "outputs": [
    {
     "name": "stdout",
     "output_type": "stream",
     "text": [
      "T-statistic: 11.053185125222411\n",
      "P-value: 3.0864241752050272e-28\n",
      "Reject H₀: Collections affect ratings.\n"
     ]
    }
   ],
   "source": [
    "with_collection = merged_df[merged_df['collections'] != 'Not listed']['rating'].dropna()\n",
    "without_collection = merged_df[merged_df['collections'] == 'Not listed']['rating'].dropna()\n",
    "\n",
    "t_stat, p_val = ttest_ind(with_collection, without_collection)\n",
    "\n",
    "print(\"T-statistic:\", t_stat)\n",
    "print(\"P-value:\", p_val)\n",
    "\n",
    "if p_val < 0.05:\n",
    "    print(\"Reject H₀: Collections affect ratings.\")\n",
    "else:\n",
    "    print(\"Fail to Reject H₀: No significant effect of collections on rating.\")\n"
   ]
  },
  {
   "cell_type": "markdown",
   "id": "c6059c8c-940a-49b9-9a10-290d3cc5217c",
   "metadata": {},
   "source": [
    "#  Step 6: Clustering"
   ]
  },
  {
   "cell_type": "code",
   "execution_count": 120,
   "id": "c8d06311-8433-4f7e-8b90-f94a6bbd9f31",
   "metadata": {},
   "outputs": [
    {
     "data": {
      "image/png": "[encoded data removed]",
      "text/plain": [
       "<Figure size 800x500 with 1 Axes>"
      ]
     },
     "metadata": {},
     "output_type": "display_data"
    },
    {
     "data": {
      "image/png": "[encoded data removed]",
      "text/plain": [
       "<Figure size 1000x500 with 1 Axes>"
      ]
     },
     "metadata": {},
     "output_type": "display_data"
    },
    {
     "data": {
      "image/png": "[encoded data removed]",
      "text/plain": [
       "<Figure size 1000x500 with 1 Axes>"
      ]
     },
     "metadata": {},
     "output_type": "display_data"
    }
   ],
   "source": [
    "# -----------------------------------------\n",
    "# 📦 Step 1: Import Libraries\n",
    "# -----------------------------------------\n",
    "import pandas as pd\n",
    "import numpy as np\n",
    "import matplotlib.pyplot as plt\n",
    "import seaborn as sns\n",
    "from sklearn.preprocessing import StandardScaler\n",
    "from sklearn.cluster import KMeans\n",
    "import warnings\n",
    "warnings.filterwarnings('ignore')\n",
    "\n",
    "# -----------------------------------------\n",
    "# 🗂️ Step 2: Prepare Data for Clustering\n",
    "# -----------------------------------------\n",
    "# Use only 'cost' and 'rating' columns\n",
    "df_cluster = merged_df[['cost', 'rating']].dropna()\n",
    "\n",
    "# Scale the features for better KMeans performance\n",
    "scaler = StandardScaler()\n",
    "scaled_features = scaler.fit_transform(df_cluster)\n",
    "\n",
    "# -----------------------------------------\n",
    "# 🔍 Step 3: Elbow Method to Choose Optimal K\n",
    "# -----------------------------------------\n",
    "wcss = []\n",
    "for i in range(1, 11):\n",
    "    kmeans = KMeans(n_clusters=i, random_state=42)\n",
    "    kmeans.fit(scaled_features)\n",
    "    wcss.append(kmeans.inertia_)\n",
    "\n",
    "# Plot WCSS vs. K\n",
    "plt.figure(figsize=(8, 5))\n",
    "plt.plot(range(1, 11), wcss, marker='o', linestyle='--')\n",
    "plt.title('Elbow Method: Optimal Number of Clusters (K)')\n",
    "plt.xlabel('Number of Clusters')\n",
    "plt.ylabel('WCSS')\n",
    "plt.grid(True)\n",
    "plt.show()\n",
    "\n",
    "# -----------------------------------------\n",
    "# 🤖 Step 4: KMeans with K=3\n",
    "# -----------------------------------------\n",
    "kmeans_3 = KMeans(n_clusters=3, random_state=42)\n",
    "df_cluster['cluster_k3'] = kmeans_3.fit_predict(scaled_features)\n",
    "\n",
    "# -----------------------------------------\n",
    "# 🤖 Step 5: KMeans with K=4\n",
    "# -----------------------------------------\n",
    "kmeans_4 = KMeans(n_clusters=4, random_state=42)\n",
    "df_cluster['cluster_k4'] = kmeans_4.fit_predict(scaled_features)\n",
    "\n",
    "# -----------------------------------------\n",
    "# 📊 Step 6: Visualize Clusters for K=3\n",
    "# -----------------------------------------\n",
    "plt.figure(figsize=(10, 5))\n",
    "sns.scatterplot(data=df_cluster, x='cost', y='rating', hue='cluster_k3', palette='Set1', s=100, alpha=0.7)\n",
    "plt.title('KMeans Clustering (K = 3)')\n",
    "plt.xlabel('Cost for Two')\n",
    "plt.ylabel('Rating')\n",
    "plt.legend(title='Cluster')\n",
    "plt.grid(True)\n",
    "plt.show()\n",
    "\n",
    "# -----------------------------------------\n",
    "# 📊 Step 7: Visualize Clusters for K=4\n",
    "# -----------------------------------------\n",
    "plt.figure(figsize=(10, 5))\n",
    "sns.scatterplot(data=df_cluster, x='cost', y='rating', hue='cluster_k4', palette='Set2', s=100, alpha=0.7)\n",
    "plt.title('KMeans Clustering (K = 4)')\n",
    "plt.xlabel('Cost for Two')\n",
    "plt.ylabel('Rating')\n",
    "plt.legend(title='Cluster')\n",
    "plt.grid(True)\n",
    "plt.show()\n"
   ]
  },
  {
   "cell_type": "code",
   "execution_count": 7,
   "id": "312ec47a-7ae6-4e3d-a869-42767cba27d0",
   "metadata": {},
   "outputs": [
    {
     "ename": "SyntaxError",
     "evalue": "invalid character '’' (U+2019) (209439918.py, line 32)",
     "output_type": "error",
     "traceback": [
      "\u001b[1;36m  Cell \u001b[1;32mIn[7], line 32\u001b[1;36m\u001b[0m\n\u001b[1;33m    By combining **numerical analysis + sentiment analysis + clustering**, we’ve built a full picture of how **ratings, reviews, cost, and cuisine type** influence the success of a restaurant on Zomato. These insights are valuable for **restaurant owners, marketers, and food-tech startups** to make data-driven decisions.\u001b[0m\n\u001b[1;37m                                                                             ^\u001b[0m\n\u001b[1;31mSyntaxError\u001b[0m\u001b[1;31m:\u001b[0m invalid character '’' (U+2019)\n"
     ]
    }
   ],
   "source": [
    "# ✅ Final Conclusion: Zomato Restaurant & Review Analysis\n",
    "\n",
    "After conducting thorough data cleaning, univariate, bivariate, and multivariate analysis  along with clustering and sentiment techniques  we can conclude the following:\n",
    "\n",
    "## 🏁 Key Insights:\n",
    "\n",
    "1. **Top Cuisines**:  \n",
    "   The most popular cuisines on Zomato include **North Indian, Chinese, South Indian** and **Fast Food**.\n",
    "\n",
    "2. **Cost vs Rating**:  \n",
    "   There is **no strong positive relationship** between restaurant cost and rating  expensive restaurants are **not always better rated**.\n",
    "\n",
    "3. **Cuisines and Ratings**:  \n",
    "   Some cuisines like **Italian and North Indian** tend to receive **higher average ratings** than others.\n",
    "\n",
    "4. **Location Value**:  \n",
    "   Certain areas provide **better value for money**, meaning high ratings at lower costs. These are ideal spots for new restaurant investment.\n",
    "\n",
    "5. **Restaurant Types**:  \n",
    "   Most restaurants are categorized as **Quick Bites** and **Casual Dining**, which dominate the Zomato platform.\n",
    "\n",
    "6. **Timings**:  \n",
    "   Majority of restaurants open between **10 AM to 11 PM**, with a lunch and dinner service peak.\n",
    "\n",
    "7. **Text Sentiment Analysis**:  \n",
    "   Reviews are **mostly positive** but sentiment scores revealed that **low-rated restaurants often have very short or angry reviews**, which can impact future sales.\n",
    "\n",
    "\n",
    "\n",
    "## 📊 Final Thought:\n",
    "\n",
    "By combining **numerical analysis + sentiment analysis + clustering**, we’ve built a full picture of how **ratings, reviews, cost, and cuisine type** influence the success of a restaurant on Zomato. These insights are valuable for **restaurant owners, marketers, and food-tech startups** to make data-driven decisions.\n",
    "\n"
   ]
  },
  {
   "cell_type": "code",
   "execution_count": null,
   "id": "5cb93897-69ef-42d8-9519-0dee86292d51",
   "metadata": {},
   "outputs": [],
   "source": []
  }
 ],
 "metadata": {
  "kernelspec": {
   "display_name": "Python [conda env:base] *",
   "language": "python",
   "name": "conda-base-py"
  },
  "language_info": {
   "codemirror_mode": {
    "name": "ipython",
    "version": 3
   },
   "file_extension": ".py",
   "mimetype": "text/x-python",
   "name": "python",
   "nbconvert_exporter": "python",
   "pygments_lexer": "ipython3",
   "version": "3.13.5"
  }
 },
 "nbformat": 4,
 "nbformat_minor": 5
}
